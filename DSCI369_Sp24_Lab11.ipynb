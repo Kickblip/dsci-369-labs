{
 "cells": [
  {
   "cell_type": "markdown",
   "metadata": {},
   "source": [
    "CSU DSCI 369 Lab 11\n",
    "Instructor: Emily J. King\n",
    "Spring 2024\n",
    "\n",
    "Goals:  Play around with matrix algebra.  Tease null space / kernel and column space / image."
   ]
  },
  {
   "cell_type": "code",
   "execution_count": 1,
   "metadata": {},
   "outputs": [],
   "source": [
    "import numpy as np\n",
    "from numpy.linalg import det\n",
    "from numpy.linalg import inv\n",
    "from numpy.linalg import matrix_rank as rank\n",
    "from scipy.linalg import null_space as null"
   ]
  },
  {
   "cell_type": "markdown",
   "metadata": {},
   "source": [
    "We first consider a 5x6 matrix A."
   ]
  },
  {
   "cell_type": "code",
   "execution_count": 2,
   "metadata": {},
   "outputs": [
    {
     "data": {
      "text/plain": [
       "array([[ 3, 10, -2,  2,  4, -6],\n",
       "       [ 4,  8,  0,  0,  0,  0],\n",
       "       [-3,  1,  4,  7,  3,  1],\n",
       "       [ 4, -3,  4,  1, -3,  7],\n",
       "       [ 1,  3, -3, -4, -1, -2]])"
      ]
     },
     "execution_count": 2,
     "metadata": {},
     "output_type": "execute_result"
    }
   ],
   "source": [
    "A=np.array([[3, 10, -2, 2, 4, -6],[4, 8, 0, 0, 0, 0],[-3, 1, 4, 7, 3, 1],[4, -3, 4, 1, -3, 7],[1, 3, -3, -4, -1, -2]])\n",
    "A"
   ]
  },
  {
   "cell_type": "markdown",
   "metadata": {},
   "source": [
    "Now we compute the dimension of the span of the columns of A."
   ]
  },
  {
   "cell_type": "code",
   "execution_count": 3,
   "metadata": {},
   "outputs": [
    {
     "data": {
      "text/plain": [
       "4"
      ]
     },
     "execution_count": 3,
     "metadata": {},
     "output_type": "execute_result"
    }
   ],
   "source": [
    "rank(A)"
   ]
  },
  {
   "cell_type": "markdown",
   "metadata": {},
   "source": [
    "So, this means that the columns are linearly dependent, since the rank is smaller than the number of vectors.  We are going to explore this a bit more."
   ]
  },
  {
   "cell_type": "code",
   "execution_count": 4,
   "metadata": {},
   "outputs": [
    {
     "data": {
      "text/plain": [
       "array([[-3.41607085e-17, -1.21163763e-16],\n",
       "       [ 4.02540894e-17,  1.59980391e-17],\n",
       "       [ 5.51918989e-01, -6.01707651e-01],\n",
       "       [ 2.48943310e-02,  5.76813320e-01],\n",
       "       [-6.01707651e-01, -5.51918989e-01],\n",
       "       [-5.76813320e-01,  2.48943310e-02]])"
      ]
     },
     "execution_count": 4,
     "metadata": {},
     "output_type": "execute_result"
    }
   ],
   "source": [
    "N=null(A)\n",
    "N"
   ]
  },
  {
   "cell_type": "markdown",
   "metadata": {},
   "source": [
    "The null command returns an orthonormal basis (a basis where the vectors are orthonormal), listed as columns, for the so-called nullspace/kernel of the matrix A.  We will learn about nullspace/kernels this week.  The basic definition is that the nullspace is the set of all vectors, which when multiplied on the left by the matrix, become the 0 vector.  Since null(A) returns a basis for the nullspace, this means that every vector that goes to zero under multiplication by this matrx is a linear combination of the vectors returned by null(A). Also note that since  null(A) returns a basis for the nullspace, we now know that the nullspace of this particular matrix has dimension 2. Let's play with this.\n",
    "\n",
    "First note that the vectors returned by null(A) are in R^6.  So, we can multply them by the 5x6 matrix A.\n",
    "\n",
    "Multiplying the first vector:\n"
   ]
  },
  {
   "cell_type": "code",
   "execution_count": 5,
   "metadata": {},
   "outputs": [
    {
     "data": {
      "text/plain": [
       "array([ 0.00000000e+00,  1.85389881e-16, -5.55111512e-16,  0.00000000e+00,\n",
       "        4.44089210e-16])"
      ]
     },
     "execution_count": 5,
     "metadata": {},
     "output_type": "execute_result"
    }
   ],
   "source": [
    "A@N[:,0]"
   ]
  },
  {
   "cell_type": "markdown",
   "metadata": {},
   "source": [
    "Notice that we get the zero vector in R^5.  (Or at least the zero vector up to floating point arithmetic.)\n",
    "\n",
    "Now we multiply the second vector:"
   ]
  },
  {
   "cell_type": "code",
   "execution_count": 6,
   "metadata": {},
   "outputs": [
    {
     "data": {
      "text/plain": [
       "array([ 4.16333634e-16, -3.56670739e-16,  3.74700271e-16, -9.29811783e-16,\n",
       "        1.38777878e-16])"
      ]
     },
     "execution_count": 6,
     "metadata": {},
     "output_type": "execute_result"
    }
   ],
   "source": [
    "A@N[:,1]"
   ]
  },
  {
   "cell_type": "markdown",
   "metadata": {},
   "source": [
    "We again get the zero vector in R^5.\n",
    "\n",
    "Now we multiply a random linear combination, using np.random.normal() (with no inputs) to generate single random scalars."
   ]
  },
  {
   "cell_type": "code",
   "execution_count": 7,
   "metadata": {},
   "outputs": [
    {
     "data": {
      "text/plain": [
       "array([-4.44089210e-16,  8.05515684e-17,  2.22044605e-16,  2.22044605e-16,\n",
       "        0.00000000e+00])"
      ]
     },
     "execution_count": 7,
     "metadata": {},
     "output_type": "execute_result"
    }
   ],
   "source": [
    "A@(np.random.normal()*N[:,0]+np.random.normal()*N[:,1])"
   ]
  },
  {
   "cell_type": "markdown",
   "metadata": {},
   "source": [
    "We can keep running the above command multiple times with different random linear combinations and still get the zero vector.\n",
    "Let's notice another thing: The number of columns of A is 6, dimension of span of columns of A is 4, and the dimension of the nullspace of A is 2, where 4+2=6.  \n",
    "\n",
    "This is not a coincidence, as we'll see this week in lecture."
   ]
  },
  {
   "cell_type": "markdown",
   "metadata": {},
   "source": [
    "Let's consider a different matrix.  This one a 4x4 matrix B."
   ]
  },
  {
   "cell_type": "code",
   "execution_count": 8,
   "metadata": {},
   "outputs": [
    {
     "data": {
      "text/plain": [
       "array([[ 1,  2,  0, -2],\n",
       "       [ 2,  1,  4,  2],\n",
       "       [ 2, -3, -1, -2],\n",
       "       [-2, -3,  1,  0]])"
      ]
     },
     "execution_count": 8,
     "metadata": {},
     "output_type": "execute_result"
    }
   ],
   "source": [
    "B=np.array([[1, 2, 0, -2],[2, 1, 4, 2],[2, -3, -1, -2],[-2, -3, 1, 0]])\n",
    "B"
   ]
  },
  {
   "cell_type": "markdown",
   "metadata": {},
   "source": [
    "Now we compute the dimension of the span of the columns of B."
   ]
  },
  {
   "cell_type": "code",
   "execution_count": 9,
   "metadata": {},
   "outputs": [
    {
     "data": {
      "text/plain": [
       "4"
      ]
     },
     "execution_count": 9,
     "metadata": {},
     "output_type": "execute_result"
    }
   ],
   "source": [
    "rank(B)"
   ]
  },
  {
   "cell_type": "markdown",
   "metadata": {},
   "source": [
    "Note that there are 4 columns in B.  Thus, since the rank of B is 4, the columns are a basis for their span.  Further note that each column has 4 entries.  This means that the columns are a basis for all of R^4.  (Their span is all of R^4 and they are linearly independent.)\n",
    "\n",
    "Now let's use the null command on B."
   ]
  },
  {
   "cell_type": "code",
   "execution_count": 10,
   "metadata": {},
   "outputs": [
    {
     "data": {
      "text/plain": [
       "array([], shape=(4, 0), dtype=float64)"
      ]
     },
     "execution_count": 10,
     "metadata": {},
     "output_type": "execute_result"
    }
   ],
   "source": [
    "null(B)"
   ]
  },
  {
   "cell_type": "markdown",
   "metadata": {},
   "source": [
    "It is empty because the only vector that B multplies to get the zero vector is the zero vector. The dimension of the nullspace is 0. I.e., if Bx = 0, it must be true that x=0. \n",
    "\n",
    "Again note that the dimension of the nullspace (0) plus the dimension of the span of the columns (4) is equal to the number of columns (4).\n",
    "\n",
    "We also note that B is a square matrix that doesn't send a vector which isn't the zero vector to the zero vector.  We will see this week that this means that it doesn't collapse down any dimensions, i.e., B is invertible, which we check here by vertifying that the determinant is not 0:"
   ]
  },
  {
   "cell_type": "code",
   "execution_count": 11,
   "metadata": {},
   "outputs": [
    {
     "data": {
      "text/plain": [
       "-146.0"
      ]
     },
     "execution_count": 11,
     "metadata": {},
     "output_type": "execute_result"
    }
   ],
   "source": [
    "det(B)"
   ]
  },
  {
   "cell_type": "markdown",
   "metadata": {},
   "source": [
    "We'll now play around with a specific 5x5 diagonal matrix D."
   ]
  },
  {
   "cell_type": "code",
   "execution_count": 12,
   "metadata": {},
   "outputs": [
    {
     "data": {
      "text/plain": [
       "array([[2, 0, 0, 0, 0],\n",
       "       [0, 0, 0, 0, 0],\n",
       "       [0, 0, 5, 0, 0],\n",
       "       [0, 0, 0, 0, 0],\n",
       "       [0, 0, 0, 0, 1]])"
      ]
     },
     "execution_count": 12,
     "metadata": {},
     "output_type": "execute_result"
    }
   ],
   "source": [
    "D=np.diag(np.array([2, 0, 5, 0, 1]))\n",
    "D\n"
   ]
  },
  {
   "cell_type": "markdown",
   "metadata": {},
   "source": [
    "Geometrically, what does multiplying vectors in R^5 by this matrix do to them? Discuss this with the class.\n",
    "\n",
    "Now let's compute the rank."
   ]
  },
  {
   "cell_type": "code",
   "execution_count": 13,
   "metadata": {},
   "outputs": [
    {
     "data": {
      "text/plain": [
       "3"
      ]
     },
     "execution_count": 13,
     "metadata": {},
     "output_type": "execute_result"
    }
   ],
   "source": [
    "rank(D)"
   ]
  },
  {
   "cell_type": "markdown",
   "metadata": {},
   "source": [
    "This should make sense. Clearly, the second and fourth columns make the set linearly dependent.  (Like in the HW.) The second column can, for example, be written as 0 times the first column.  Thus, it is a linear combination of other columns.  Same goes for the fourth column.  However, the first, third, and fifth columns can't be written as linear combinations of one another.  E.g., there's no way to make a linear combination of the third and fifth columns to get the 2 entry in the first position of the first column.\n",
    "\n",
    "Given the formula we noted earlier, we should get that the dimension of the nullspace is 2."
   ]
  },
  {
   "cell_type": "code",
   "execution_count": 14,
   "metadata": {},
   "outputs": [
    {
     "data": {
      "text/plain": [
       "array([[0., 0.],\n",
       "       [0., 1.],\n",
       "       [0., 0.],\n",
       "       [1., 0.],\n",
       "       [0., 0.]])"
      ]
     },
     "execution_count": 14,
     "metadata": {},
     "output_type": "execute_result"
    }
   ],
   "source": [
    "null(D)"
   ]
  },
  {
   "cell_type": "markdown",
   "metadata": {},
   "source": [
    "Notice that these two vectors have a single non-zero entry each, in the second and fourth positions.  We'll discuss this more in lecture."
   ]
  },
  {
   "cell_type": "markdown",
   "metadata": {},
   "source": [
    "We'll now play around with a random 5x5 orthogonal matrix U.  You don't need to understand the code to generate the random orthogonal matrix.  This is built on linear algebra that we won't do in this class."
   ]
  },
  {
   "cell_type": "code",
   "execution_count": 15,
   "metadata": {},
   "outputs": [
    {
     "data": {
      "text/plain": [
       "array([[-4.93003405e-01,  3.70557172e-01, -4.84482343e-01,\n",
       "        -5.60473584e-01, -2.66047450e-01],\n",
       "       [-3.72670635e-04, -1.62677903e-02, -7.46303700e-01,\n",
       "         6.62771524e-01, -5.91600676e-02],\n",
       "       [ 4.04775525e-01,  2.50573977e-01, -3.17093179e-01,\n",
       "        -2.81922940e-01,  7.70286199e-01],\n",
       "       [ 7.51513608e-01,  2.97031282e-01, -7.58738674e-02,\n",
       "        -1.28587477e-01, -5.69831669e-01],\n",
       "       [ 1.68319859e-01, -8.43449963e-01, -3.19378644e-01,\n",
       "        -3.88056677e-01, -8.75778589e-02]])"
      ]
     },
     "execution_count": 15,
     "metadata": {},
     "output_type": "execute_result"
    }
   ],
   "source": [
    "U=np.linalg.qr(np.random.randn(5,5))[0]\n",
    "U"
   ]
  },
  {
   "cell_type": "markdown",
   "metadata": {},
   "source": [
    "Let's test that U is indeed orthogonal, using the fact that a square matrix is orthogonal if and only if its transpose is its inverse, i.e., UU^T = I."
   ]
  },
  {
   "cell_type": "code",
   "execution_count": 16,
   "metadata": {},
   "outputs": [
    {
     "data": {
      "text/plain": [
       "True"
      ]
     },
     "execution_count": 16,
     "metadata": {},
     "output_type": "execute_result"
    }
   ],
   "source": [
    "np.allclose(U@np.transpose(U),np.eye(5))"
   ]
  },
  {
   "cell_type": "markdown",
   "metadata": {},
   "source": [
    "Since it is invertible, we should expect that the rank is equal to the number of columns and the nullspace is just the zero vector.\n"
   ]
  },
  {
   "cell_type": "code",
   "execution_count": 17,
   "metadata": {},
   "outputs": [
    {
     "data": {
      "text/plain": [
       "5"
      ]
     },
     "execution_count": 17,
     "metadata": {},
     "output_type": "execute_result"
    }
   ],
   "source": [
    "rank(U)"
   ]
  },
  {
   "cell_type": "code",
   "execution_count": 18,
   "metadata": {},
   "outputs": [
    {
     "data": {
      "text/plain": [
       "array([], shape=(5, 0), dtype=float64)"
      ]
     },
     "execution_count": 18,
     "metadata": {},
     "output_type": "execute_result"
    }
   ],
   "source": [
    "null(U)"
   ]
  },
  {
   "cell_type": "markdown",
   "metadata": {},
   "source": [
    "Is U a rotation?  Remember that an orthogonal matrix is a rotation if and only if its determinant is 1."
   ]
  },
  {
   "cell_type": "code",
   "execution_count": 19,
   "metadata": {},
   "outputs": [
    {
     "data": {
      "text/plain": [
       "1.0000000000000004"
      ]
     },
     "execution_count": 19,
     "metadata": {},
     "output_type": "execute_result"
    }
   ],
   "source": [
    "det(U)"
   ]
  },
  {
   "cell_type": "markdown",
   "metadata": {},
   "source": [
    "As reminders: (1) There are many matrices which have determinant 1 but are not rotations.  For example, all shear matrices have determinant 1 but change angles between vectors. (2) Although all reflections are orthogonal and all reflections have determinant -1, all orthogonal matrices with determinant -1 are not necessarily reflections.  They can be a complication combination of reflections and rotations."
   ]
  },
  {
   "cell_type": "markdown",
   "metadata": {},
   "source": [
    "Exercises\n",
    "\n",
    "1. Let D and U be the matrices defined above.  Set M=U*D*U^(-1)."
   ]
  },
  {
   "cell_type": "code",
   "execution_count": 36,
   "metadata": {},
   "outputs": [],
   "source": [
    "M=U@D@inv(U)"
   ]
  },
  {
   "cell_type": "markdown",
   "metadata": {},
   "source": [
    "2. Set u2 = second column of U and u4 = fourth column of U. (Counting starting at one.  Adjust one Python.)\n"
   ]
  },
  {
   "cell_type": "code",
   "execution_count": 37,
   "metadata": {},
   "outputs": [],
   "source": [
    "u2 = U[:,1]\n",
    "u4 = U[:,3]"
   ]
  },
  {
   "cell_type": "markdown",
   "metadata": {},
   "source": [
    "3. Multiply M times u2.  Then discuss the outcome.  How does this relate to Lab 10's exercises?\n"
   ]
  },
  {
   "cell_type": "code",
   "execution_count": 38,
   "metadata": {},
   "outputs": [
    {
     "data": {
      "text/plain": [
       "array([-4.84832568e-17,  1.39030540e-16, -2.78493564e-17,  4.11487094e-17,\n",
       "        1.05635295e-17])"
      ]
     },
     "execution_count": 38,
     "metadata": {},
     "output_type": "execute_result"
    }
   ],
   "source": [
    "M@u2"
   ]
  },
  {
   "cell_type": "markdown",
   "metadata": {},
   "source": [
    "The outcome of this transformation is a zero vector. Since U is a rotation matrix, this transformation must rotate u2 by some degree then scale the vector by D, and rotate it back to the starting position. Since D is a diagonal matrix with non-zero entries, I suspect that the first rotation moves u2 onto one of the axis. This is similar to C from lab 10, which also resulted in 0 vectors when the transformation was applied."
   ]
  },
  {
   "cell_type": "markdown",
   "metadata": {},
   "source": [
    "4.  Multiply M times u4.  Then discuss the outcome.  How does this relate to Lab 10's exercises?\n"
   ]
  },
  {
   "cell_type": "code",
   "execution_count": 24,
   "metadata": {},
   "outputs": [
    {
     "data": {
      "text/plain": [
       "array([-3.18674214e-16, -4.24246920e-16,  3.69841403e-17,  1.60491592e-16,\n",
       "       -1.43122236e-16])"
      ]
     },
     "execution_count": 24,
     "metadata": {},
     "output_type": "execute_result"
    }
   ],
   "source": [
    "M@u4"
   ]
  },
  {
   "cell_type": "markdown",
   "metadata": {},
   "source": [
    "I think that a very similar thing happens to u4 in this transformation.  It is rotated by some degree, scaled by D, then rotated back.  Since multiplying M by u4 also returns a 0 vector, I believe that M must also be similar to transformation C from lab 10.  After the first rotation, the vector was probably rotated onto one of the axis."
   ]
  },
  {
   "cell_type": "markdown",
   "metadata": {},
   "source": [
    "5. Calculate the rank of M.\n"
   ]
  },
  {
   "cell_type": "code",
   "execution_count": 35,
   "metadata": {},
   "outputs": [
    {
     "data": {
      "text/plain": [
       "3"
      ]
     },
     "execution_count": 35,
     "metadata": {},
     "output_type": "execute_result"
    }
   ],
   "source": [
    "rank(M)"
   ]
  },
  {
   "cell_type": "markdown",
   "metadata": {},
   "source": [
    "6. Calculate a basis for the nullspace of M.\n"
   ]
  },
  {
   "cell_type": "code",
   "execution_count": 39,
   "metadata": {},
   "outputs": [
    {
     "data": {
      "text/plain": [
       "array([[ 0.67186027,  0.00685851],\n",
       "       [-0.55821277, -0.35767196],\n",
       "       [ 0.37389229, -0.04972341],\n",
       "       [ 0.27287056, -0.17408038],\n",
       "       [-0.15082604,  0.91610443]])"
      ]
     },
     "execution_count": 39,
     "metadata": {},
     "output_type": "execute_result"
    }
   ],
   "source": [
    "null(M)"
   ]
  },
  {
   "cell_type": "markdown",
   "metadata": {},
   "source": [
    "7. Discuss your answers to 5 and 6.\n"
   ]
  },
  {
   "cell_type": "markdown",
   "metadata": {},
   "source": [
    "Since the rank (3) is less than the number of columns of M, the column vectors must be linearly dependent.  The vectors in the basis of the nullspace of M have a dimension of 5, which makes sense because M is a 5x5 matrix."
   ]
  },
  {
   "cell_type": "markdown",
   "metadata": {},
   "source": [
    "8. Is u2 a linear combination of the columns from the answer in Exercise 6?  Discuss your answer.\n"
   ]
  },
  {
   "cell_type": "markdown",
   "metadata": {},
   "source": [
    "Yes, u2 is a linear combination of the columns because M@u2 is equal to the 0 vector.  Any linear combination of basis vectors for nullspace A times that vector is 0."
   ]
  }
 ],
 "metadata": {
  "kernelspec": {
   "display_name": "Python 3",
   "language": "python",
   "name": "python3"
  },
  "language_info": {
   "codemirror_mode": {
    "name": "ipython",
    "version": 3
   },
   "file_extension": ".py",
   "mimetype": "text/x-python",
   "name": "python",
   "nbconvert_exporter": "python",
   "pygments_lexer": "ipython3",
   "version": "3.9.6"
  }
 },
 "nbformat": 4,
 "nbformat_minor": 2
}
