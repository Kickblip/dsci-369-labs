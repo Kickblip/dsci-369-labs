{
 "cells": [
  {
   "cell_type": "markdown",
   "metadata": {},
   "source": [
    "CSU DSCI 369 Lab 5\n",
    "Instructor: Emily J. King\n",
    "Spring 2024\n",
    "Goals: Understand parallizability of matrix multiplication. Show non-commutativity. See what the identity matrix does. Tease inveribility and non-invertibility.\n",
    "\n",
    "We're going to play around with the following five matrices:\n"
   ]
  },
  {
   "cell_type": "code",
   "execution_count": 1,
   "metadata": {},
   "outputs": [],
   "source": [
    "import numpy as np"
   ]
  },
  {
   "cell_type": "code",
   "execution_count": 2,
   "metadata": {},
   "outputs": [
    {
     "name": "stdout",
     "output_type": "stream",
     "text": [
      "A is\n",
      " [[ 3.   0.   0. ]\n",
      " [ 0.  -1.   0. ]\n",
      " [ 0.   0.   0.5]]\n",
      "B is\n",
      " [[1 0 2]\n",
      " [0 1 0]\n",
      " [0 0 1]]\n",
      "C is\n",
      " [[1. 1. 1.]\n",
      " [1. 1. 1.]\n",
      " [1. 1. 1.]]\n",
      "I is\n",
      " [[1. 0. 0.]\n",
      " [0. 1. 0.]\n",
      " [0. 0. 1.]]\n",
      "R is\n",
      " [[0.23668397 0.08776614 0.07275722]\n",
      " [0.28134398 0.11664886 0.50606825]\n",
      " [0.35560434 0.54321585 0.64114684]]\n"
     ]
    }
   ],
   "source": [
    "A=np.array([[3, 0, 0], [0, -1, 0], [0, 0, 0.5]])\n",
    "print('A is\\n',A)\n",
    "B=np.array([[1, 0, 2], [0, 1, 0], [0, 0, 1]])\n",
    "print('B is\\n',B)\n",
    "C=np.ones([3,3])\n",
    "print('C is\\n',C)\n",
    "I=np.eye(3)\n",
    "print('I is\\n',I)\n",
    "R=np.random.rand(3,3)\n",
    "print('R is\\n',R)"
   ]
  },
  {
   "cell_type": "markdown",
   "metadata": {},
   "source": [
    "The command above np.eye(n) will make an nxn matrix with ones where i=j and zeroes everywhere else.  It's called \"eye\" because such matrices are typically denoted with a capital letter 'I'.\n",
    "\n",
    "Parallelizability\n",
    "\n",
    "Let's compute BR.  REMEMBER: Matrix multiplication in Python is with @.  The * is a completely differen operation (Hadamard product)."
   ]
  },
  {
   "cell_type": "code",
   "execution_count": 3,
   "metadata": {},
   "outputs": [
    {
     "data": {
      "text/plain": [
       "array([[0.94789265, 1.17419784, 1.3550509 ],\n",
       "       [0.28134398, 0.11664886, 0.50606825],\n",
       "       [0.35560434, 0.54321585, 0.64114684]])"
      ]
     },
     "execution_count": 3,
     "metadata": {},
     "output_type": "execute_result"
    }
   ],
   "source": [
    "B@R"
   ]
  },
  {
   "cell_type": "markdown",
   "metadata": {},
   "source": [
    "Now let's compute B times the first column of R. Note that Python will present this as a 1D array displayed horizontally, but you should read it as a column vector."
   ]
  },
  {
   "cell_type": "code",
   "execution_count": 4,
   "metadata": {},
   "outputs": [
    {
     "data": {
      "text/plain": [
       "array([0.94789265, 0.28134398, 0.35560434])"
      ]
     },
     "execution_count": 4,
     "metadata": {},
     "output_type": "execute_result"
    }
   ],
   "source": [
    "B@R[:,0]"
   ]
  },
  {
   "cell_type": "markdown",
   "metadata": {},
   "source": [
    "It is possible to force Python to show the output as a column vector, but we must add a valence:"
   ]
  },
  {
   "cell_type": "code",
   "execution_count": 5,
   "metadata": {},
   "outputs": [
    {
     "data": {
      "text/plain": [
       "array([[0.94789265],\n",
       "       [0.28134398],\n",
       "       [0.35560434]])"
      ]
     },
     "execution_count": 5,
     "metadata": {},
     "output_type": "execute_result"
    }
   ],
   "source": [
    "(B@R[:,0])[:, np.newaxis]"
   ]
  },
  {
   "cell_type": "markdown",
   "metadata": {},
   "source": [
    "To aid with visualization, we will also display the following products as columns.  Now B times the second column of R.\n"
   ]
  },
  {
   "cell_type": "code",
   "execution_count": 6,
   "metadata": {},
   "outputs": [
    {
     "data": {
      "text/plain": [
       "array([[1.17419784],\n",
       "       [0.11664886],\n",
       "       [0.54321585]])"
      ]
     },
     "execution_count": 6,
     "metadata": {},
     "output_type": "execute_result"
    }
   ],
   "source": [
    "(B@R[:,1])[:, np.newaxis]"
   ]
  },
  {
   "cell_type": "markdown",
   "metadata": {},
   "source": [
    "And B times the third column of R."
   ]
  },
  {
   "cell_type": "code",
   "execution_count": 7,
   "metadata": {},
   "outputs": [
    {
     "data": {
      "text/plain": [
       "array([[1.3550509 ],\n",
       "       [0.50606825],\n",
       "       [0.64114684]])"
      ]
     },
     "execution_count": 7,
     "metadata": {},
     "output_type": "execute_result"
    }
   ],
   "source": [
    "(B@R[:,2])[:, np.newaxis]"
   ]
  },
  {
   "cell_type": "markdown",
   "metadata": {},
   "source": [
    "What do you notice?  Why does this match what we've seen in lecture?\n",
    "\n",
    "Similarly, let's compute the first row of B times R.  Since the mathematical output is a row and Python displays 1D arrays as rows be default, we won't need to manipulate the output to aid in visualization."
   ]
  },
  {
   "cell_type": "code",
   "execution_count": 8,
   "metadata": {},
   "outputs": [
    {
     "data": {
      "text/plain": [
       "array([0.94789265, 1.17419784, 1.3550509 ])"
      ]
     },
     "execution_count": 8,
     "metadata": {},
     "output_type": "execute_result"
    }
   ],
   "source": [
    "B[0,:]@R"
   ]
  },
  {
   "cell_type": "markdown",
   "metadata": {},
   "source": [
    "And the second row of B times R."
   ]
  },
  {
   "cell_type": "code",
   "execution_count": 9,
   "metadata": {},
   "outputs": [
    {
     "data": {
      "text/plain": [
       "array([0.28134398, 0.11664886, 0.50606825])"
      ]
     },
     "execution_count": 9,
     "metadata": {},
     "output_type": "execute_result"
    }
   ],
   "source": [
    "B[1,:]@R"
   ]
  },
  {
   "cell_type": "markdown",
   "metadata": {},
   "source": [
    "And the third.\n"
   ]
  },
  {
   "cell_type": "code",
   "execution_count": 10,
   "metadata": {},
   "outputs": [
    {
     "data": {
      "text/plain": [
       "array([0.35560434, 0.54321585, 0.64114684])"
      ]
     },
     "execution_count": 10,
     "metadata": {},
     "output_type": "execute_result"
    }
   ],
   "source": [
    "B[2,:]@R"
   ]
  },
  {
   "cell_type": "markdown",
   "metadata": {},
   "source": [
    "What do you notice?  Why does this match what we've seen in lecture?\n",
    "\n",
    "Identity\n",
    "\n",
    "Let's compute AI and IA.  "
   ]
  },
  {
   "cell_type": "code",
   "execution_count": 12,
   "metadata": {},
   "outputs": [
    {
     "data": {
      "text/plain": [
       "array([[ 3. ,  0. ,  0. ],\n",
       "       [ 0. , -1. ,  0. ],\n",
       "       [ 0. ,  0. ,  0.5]])"
      ]
     },
     "execution_count": 12,
     "metadata": {},
     "output_type": "execute_result"
    }
   ],
   "source": [
    "A@I"
   ]
  },
  {
   "cell_type": "code",
   "execution_count": 11,
   "metadata": {},
   "outputs": [
    {
     "data": {
      "text/plain": [
       "array([[ 3. ,  0. ,  0. ],\n",
       "       [ 0. , -1. ,  0. ],\n",
       "       [ 0. ,  0. ,  0.5]])"
      ]
     },
     "execution_count": 11,
     "metadata": {},
     "output_type": "execute_result"
    }
   ],
   "source": [
    "I@A"
   ]
  },
  {
   "cell_type": "markdown",
   "metadata": {},
   "source": [
    "Now, let's compute BI and IB.  \n"
   ]
  },
  {
   "cell_type": "code",
   "execution_count": 13,
   "metadata": {},
   "outputs": [
    {
     "data": {
      "text/plain": [
       "array([[1., 0., 2.],\n",
       "       [0., 1., 0.],\n",
       "       [0., 0., 1.]])"
      ]
     },
     "execution_count": 13,
     "metadata": {},
     "output_type": "execute_result"
    }
   ],
   "source": [
    "B@I"
   ]
  },
  {
   "cell_type": "code",
   "execution_count": 14,
   "metadata": {},
   "outputs": [
    {
     "data": {
      "text/plain": [
       "array([[1., 0., 2.],\n",
       "       [0., 1., 0.],\n",
       "       [0., 0., 1.]])"
      ]
     },
     "execution_count": 14,
     "metadata": {},
     "output_type": "execute_result"
    }
   ],
   "source": [
    "I@B"
   ]
  },
  {
   "cell_type": "markdown",
   "metadata": {},
   "source": [
    "Finally, let's compute RI and IR.\n"
   ]
  },
  {
   "cell_type": "code",
   "execution_count": 15,
   "metadata": {},
   "outputs": [
    {
     "data": {
      "text/plain": [
       "array([[0.23668397, 0.08776614, 0.07275722],\n",
       "       [0.28134398, 0.11664886, 0.50606825],\n",
       "       [0.35560434, 0.54321585, 0.64114684]])"
      ]
     },
     "execution_count": 15,
     "metadata": {},
     "output_type": "execute_result"
    }
   ],
   "source": [
    "R@I"
   ]
  },
  {
   "cell_type": "code",
   "execution_count": 16,
   "metadata": {},
   "outputs": [
    {
     "data": {
      "text/plain": [
       "array([[0.23668397, 0.08776614, 0.07275722],\n",
       "       [0.28134398, 0.11664886, 0.50606825],\n",
       "       [0.35560434, 0.54321585, 0.64114684]])"
      ]
     },
     "execution_count": 16,
     "metadata": {},
     "output_type": "execute_result"
    }
   ],
   "source": [
    "I@R"
   ]
  },
  {
   "cell_type": "markdown",
   "metadata": {},
   "source": [
    "What seems to be happening each time?  Discuss.\n",
    "\n",
    "Multiplying by I (Identity Matrix) does not change the original matrix.\n",
    "\n",
    "Non-commutativity\n",
    "\n",
    "Changing the order of multiplication when one of the matrices was I above didn't change the output.  But let's try some other pairs.  \n",
    "\n",
    "In Lab 2, we used np.allclose(vec1,vec2) to test for approximate equality taking into account floating point arithmetic.  We will do the same with matrices. \n",
    "\n",
    "We'll look at the matrices first since they are small enough to see all entries at once."
   ]
  },
  {
   "cell_type": "code",
   "execution_count": 17,
   "metadata": {},
   "outputs": [
    {
     "data": {
      "text/plain": [
       "array([[ 3. ,  0. ,  6. ],\n",
       "       [ 0. , -1. ,  0. ],\n",
       "       [ 0. ,  0. ,  0.5]])"
      ]
     },
     "execution_count": 17,
     "metadata": {},
     "output_type": "execute_result"
    }
   ],
   "source": [
    "A@B"
   ]
  },
  {
   "cell_type": "code",
   "execution_count": 18,
   "metadata": {},
   "outputs": [
    {
     "data": {
      "text/plain": [
       "array([[ 3. ,  0. ,  1. ],\n",
       "       [ 0. , -1. ,  0. ],\n",
       "       [ 0. ,  0. ,  0.5]])"
      ]
     },
     "execution_count": 18,
     "metadata": {},
     "output_type": "execute_result"
    }
   ],
   "source": [
    "B@A"
   ]
  },
  {
   "cell_type": "markdown",
   "metadata": {},
   "source": [
    "And here is the test."
   ]
  },
  {
   "cell_type": "code",
   "execution_count": 19,
   "metadata": {},
   "outputs": [
    {
     "data": {
      "text/plain": [
       "False"
      ]
     },
     "execution_count": 19,
     "metadata": {},
     "output_type": "execute_result"
    }
   ],
   "source": [
    "np.allclose(A@B,B@A)"
   ]
  },
  {
   "cell_type": "markdown",
   "metadata": {},
   "source": [
    "And a different pair."
   ]
  },
  {
   "cell_type": "code",
   "execution_count": 20,
   "metadata": {},
   "outputs": [
    {
     "data": {
      "text/plain": [
       "array([[0.87363229, 0.74763085, 1.21997231],\n",
       "       [0.87363229, 0.74763085, 1.21997231],\n",
       "       [0.87363229, 0.74763085, 1.21997231]])"
      ]
     },
     "execution_count": 20,
     "metadata": {},
     "output_type": "execute_result"
    }
   ],
   "source": [
    "C@R"
   ]
  },
  {
   "cell_type": "code",
   "execution_count": 21,
   "metadata": {},
   "outputs": [
    {
     "data": {
      "text/plain": [
       "array([[0.39720733, 0.39720733, 0.39720733],\n",
       "       [0.90406109, 0.90406109, 0.90406109],\n",
       "       [1.53996703, 1.53996703, 1.53996703]])"
      ]
     },
     "execution_count": 21,
     "metadata": {},
     "output_type": "execute_result"
    }
   ],
   "source": [
    "R@C"
   ]
  },
  {
   "cell_type": "code",
   "execution_count": 22,
   "metadata": {},
   "outputs": [
    {
     "data": {
      "text/plain": [
       "False"
      ]
     },
     "execution_count": 22,
     "metadata": {},
     "output_type": "execute_result"
    }
   ],
   "source": [
    "np.allclose(C@R,R@C)"
   ]
  },
  {
   "cell_type": "markdown",
   "metadata": {},
   "source": [
    "What happened?  Can we always switch the order of multiplication?\n",
    "\n",
    "No\n"
   ]
  },
  {
   "cell_type": "markdown",
   "metadata": {},
   "source": [
    "Non-invertibility\n",
    "\n",
    "CR and RC above were really structured.  Let's play around with that some more.\n",
    "\n",
    "We'll multiply C times a number of vectors.  This time we won't restructure them to visualize them as column vectors."
   ]
  },
  {
   "cell_type": "code",
   "execution_count": 23,
   "metadata": {},
   "outputs": [
    {
     "data": {
      "text/plain": [
       "array([1., 1., 1.])"
      ]
     },
     "execution_count": 23,
     "metadata": {},
     "output_type": "execute_result"
    }
   ],
   "source": [
    "C@np.array([1,0,0])"
   ]
  },
  {
   "cell_type": "code",
   "execution_count": 24,
   "metadata": {},
   "outputs": [
    {
     "data": {
      "text/plain": [
       "array([1., 1., 1.])"
      ]
     },
     "execution_count": 24,
     "metadata": {},
     "output_type": "execute_result"
    }
   ],
   "source": [
    "C@np.array([0,1,0])"
   ]
  },
  {
   "cell_type": "code",
   "execution_count": 25,
   "metadata": {},
   "outputs": [
    {
     "data": {
      "text/plain": [
       "array([1., 1., 1.])"
      ]
     },
     "execution_count": 25,
     "metadata": {},
     "output_type": "execute_result"
    }
   ],
   "source": [
    "C@np.array([0,0,1])"
   ]
  },
  {
   "cell_type": "code",
   "execution_count": 26,
   "metadata": {},
   "outputs": [
    {
     "data": {
      "text/plain": [
       "array([1., 1., 1.])"
      ]
     },
     "execution_count": 26,
     "metadata": {},
     "output_type": "execute_result"
    }
   ],
   "source": [
    "C@np.array([1./3,1/3,1/3])"
   ]
  },
  {
   "cell_type": "markdown",
   "metadata": {},
   "source": [
    "Say I had a function f:R^3 -> R^3 that multiplied column vectors with 3 entries on the right by C, i.e. f(x) = Cx.  If I know that for some y that f(y) is the all-ones vector, do I know what y was?  Can I say anything about y?  Discuss."
   ]
  },
  {
   "cell_type": "markdown",
   "metadata": {},
   "source": [
    "Exercises\n",
    "\n",
    "1. a. Multiply A defined above on the right by three different non-zero vectors.  "
   ]
  },
  {
   "cell_type": "code",
   "execution_count": 27,
   "metadata": {},
   "outputs": [
    {
     "name": "stdout",
     "output_type": "stream",
     "text": [
      "[ 3. -3.  1.]\n",
      "[ 9.  -3.   0.5]\n",
      "[18. -2.  2.]\n"
     ]
    }
   ],
   "source": [
    "print(A@np.array([1,3,2]))\n",
    "print(A@np.array([3,3,1]))\n",
    "print(A@np.array([6,2,4]))"
   ]
  },
  {
   "cell_type": "markdown",
   "metadata": {},
   "source": [
    "b. Compare the input and output each time.  What does multiplying by A seem to do to the vectors?\n",
    "\n",
    "Multiplying a vector by A appears to return a new vector that has had operations performed on its entries. The first entry is multiplied by 3, the second entry is multiplied by -1, and the third entry is halved."
   ]
  },
  {
   "cell_type": "markdown",
   "metadata": {},
   "source": [
    "2. a. Define two vectors, y and z (which are not one of the four already used above) such that Cy and Cz are the all-ones vector. "
   ]
  },
  {
   "cell_type": "code",
   "execution_count": 36,
   "metadata": {},
   "outputs": [],
   "source": [
    "y=np.array([-1,-3,5])\n",
    "z=np.array([2,-1,0])"
   ]
  },
  {
   "cell_type": "markdown",
   "metadata": {},
   "source": [
    "b. Verify that Cy and Cz are indeed the all-ones vector.\n"
   ]
  },
  {
   "cell_type": "code",
   "execution_count": 35,
   "metadata": {},
   "outputs": [
    {
     "name": "stdout",
     "output_type": "stream",
     "text": [
      "[1. 1. 1.]\n",
      "[1. 1. 1.]\n"
     ]
    }
   ],
   "source": [
    "print(C@y)\n",
    "print(C@z)"
   ]
  },
  {
   "cell_type": "markdown",
   "metadata": {},
   "source": [
    "c. Explain why you chose those vectors.\n",
    "\n",
    "I noticed that C multiplied by a given vector returns a new vector where all entries are the sum of the original vector's entries, so I defined y and z so that their entries add up to 1."
   ]
  },
  {
   "cell_type": "markdown",
   "metadata": {},
   "source": [
    "3. a. Multiply C on the right by three different random 3x1 vectors.\n"
   ]
  },
  {
   "cell_type": "code",
   "execution_count": 41,
   "metadata": {},
   "outputs": [
    {
     "name": "stdout",
     "output_type": "stream",
     "text": [
      "[[1.16215977]\n",
      " [1.16215977]\n",
      " [1.16215977]]\n",
      "[[1.10280875]\n",
      " [1.10280875]\n",
      " [1.10280875]]\n",
      "[[1.5412121]\n",
      " [1.5412121]\n",
      " [1.5412121]]\n"
     ]
    }
   ],
   "source": [
    "print(C@np.random.rand(3, 1))\n",
    "print(C@np.random.rand(3, 1))\n",
    "print(C@np.random.rand(3, 1))"
   ]
  },
  {
   "cell_type": "markdown",
   "metadata": {},
   "source": [
    "e. Do you think [2; 1; 1] is an output of the function f(x)=Cx?  Explain your answer.\n",
    "\n",
    "No because f(x)=Cx returns a vector where all entries are equal to the sum of x's entries. [2; 1; 1] could not be an output because not all of its entries are equal.\n"
   ]
  }
 ],
 "metadata": {
  "kernelspec": {
   "display_name": "Python 3",
   "language": "python",
   "name": "python3"
  },
  "language_info": {
   "codemirror_mode": {
    "name": "ipython",
    "version": 3
   },
   "file_extension": ".py",
   "mimetype": "text/x-python",
   "name": "python",
   "nbconvert_exporter": "python",
   "pygments_lexer": "ipython3",
   "version": "3.9.6"
  }
 },
 "nbformat": 4,
 "nbformat_minor": 2
}
