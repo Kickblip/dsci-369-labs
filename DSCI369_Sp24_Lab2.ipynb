{
 "cells": [
  {
   "cell_type": "markdown",
   "metadata": {},
   "source": [
    "CSU DSCI 369 Lab 2\n",
    "Instructor: Emily J. King\n",
    "Spring 2024\n",
    "\n",
    "Goals: Learn how to calculate and interpret basic linear operations. Recall that floating point arithmetic doesn't always give the exact same output. Understand the output of squaring adjacency matrices before learning how squaring a matrix is defined. Visually explore linear combinations.\n",
    "\n",
    "Additional files needed: DSCI369_Sp24_Lab2.pdf"
   ]
  },
  {
   "cell_type": "code",
   "execution_count": 1,
   "metadata": {},
   "outputs": [],
   "source": [
    "import numpy as np # used for most math functions\n",
    "from numpy import linalg as LA # some special linear algebra functions"
   ]
  },
  {
   "cell_type": "markdown",
   "metadata": {},
   "source": [
    "Part 1\n",
    "\n",
    "Define a random vector x with 6 entries. (If you don't know probability, just take \"random\" to mean something that a human wouldn't likely write down if asked for a vector. If you know probability, each entry is a draw independently from the uniform [0,1] probability distribution.)"
   ]
  },
  {
   "cell_type": "code",
   "execution_count": 2,
   "metadata": {},
   "outputs": [
    {
     "name": "stdout",
     "output_type": "stream",
     "text": [
      "[0.99466052 0.87742881 0.13986442 0.2178267  0.10773335 0.18520655]\n"
     ]
    }
   ],
   "source": [
    "x = np.random.rand(6)\n",
    "print(x)"
   ]
  },
  {
   "cell_type": "markdown",
   "metadata": {},
   "source": [
    "Define an all-ones vector y with 6 entries."
   ]
  },
  {
   "cell_type": "code",
   "execution_count": 3,
   "metadata": {},
   "outputs": [
    {
     "name": "stdout",
     "output_type": "stream",
     "text": [
      "[1. 1. 1. 1. 1. 1.]\n"
     ]
    }
   ],
   "source": [
    "y = np.ones(6)\n",
    "print(y)"
   ]
  },
  {
   "cell_type": "markdown",
   "metadata": {},
   "source": [
    "Add together x and y."
   ]
  },
  {
   "cell_type": "code",
   "execution_count": 4,
   "metadata": {},
   "outputs": [
    {
     "data": {
      "text/plain": [
       "array([1.99466052, 1.87742881, 1.13986442, 1.2178267 , 1.10773335,\n",
       "       1.18520655])"
      ]
     },
     "execution_count": 4,
     "metadata": {},
     "output_type": "execute_result"
    }
   ],
   "source": [
    "x+y"
   ]
  },
  {
   "cell_type": "markdown",
   "metadata": {},
   "source": [
    "Scalar multiply y by 2.1 and call this new vector z."
   ]
  },
  {
   "cell_type": "code",
   "execution_count": 5,
   "metadata": {},
   "outputs": [
    {
     "name": "stdout",
     "output_type": "stream",
     "text": [
      "[2.1 2.1 2.1 2.1 2.1 2.1]\n"
     ]
    }
   ],
   "source": [
    "z=2.1*y\n",
    "print(z)"
   ]
  },
  {
   "cell_type": "markdown",
   "metadata": {},
   "source": [
    "Scalar multiply x by 4 and call this new vector v."
   ]
  },
  {
   "cell_type": "code",
   "execution_count": 6,
   "metadata": {},
   "outputs": [
    {
     "name": "stdout",
     "output_type": "stream",
     "text": [
      "[3.97864208 3.50971523 0.55945769 0.87130679 0.43093339 0.74082621]\n"
     ]
    }
   ],
   "source": [
    "v=4*x\n",
    "print(v)"
   ]
  },
  {
   "cell_type": "markdown",
   "metadata": {},
   "source": [
    "Add together v and z."
   ]
  },
  {
   "cell_type": "code",
   "execution_count": 7,
   "metadata": {},
   "outputs": [
    {
     "data": {
      "text/plain": [
       "array([6.07864208, 5.60971523, 2.65945769, 2.97130679, 2.53093339,\n",
       "       2.84082621])"
      ]
     },
     "execution_count": 7,
     "metadata": {},
     "output_type": "execute_result"
    }
   ],
   "source": [
    "v+z"
   ]
  },
  {
   "cell_type": "markdown",
   "metadata": {},
   "source": [
    "Now, add together 2.1y and 4x."
   ]
  },
  {
   "cell_type": "code",
   "execution_count": 8,
   "metadata": {},
   "outputs": [
    {
     "data": {
      "text/plain": [
       "array([6.07864208, 5.60971523, 2.65945769, 2.97130679, 2.53093339,\n",
       "       2.84082621])"
      ]
     },
     "execution_count": 8,
     "metadata": {},
     "output_type": "execute_result"
    }
   ],
   "source": [
    "2.1*y+4*x"
   ]
  },
  {
   "cell_type": "markdown",
   "metadata": {},
   "source": [
    "Test to see if the two previous operations yielded the same vector.  We will not learn what \"norm\" means for another week or so, but for now just think of it as a generalization of absolute value for vectors; so, if two vectors computed with floating point arithmetic are \"the same\", the norm of their difference should be really close to 0.  Here, 1 means that the inequality is true and 0 means that it's false.  In this class, whenever we want to test if two vectors using floating point arithmetic are the same, we will use the command np.allclose(vec1,vec2)."
   ]
  },
  {
   "cell_type": "code",
   "execution_count": 9,
   "metadata": {},
   "outputs": [
    {
     "data": {
      "text/plain": [
       "True"
      ]
     },
     "execution_count": 9,
     "metadata": {},
     "output_type": "execute_result"
    }
   ],
   "source": [
    "np.allclose(v+z,2.1*y+4*x)"
   ]
  },
  {
   "cell_type": "markdown",
   "metadata": {},
   "source": [
    "Define a random 3x4 matrix M."
   ]
  },
  {
   "cell_type": "code",
   "execution_count": 10,
   "metadata": {},
   "outputs": [
    {
     "name": "stdout",
     "output_type": "stream",
     "text": [
      "[[0.08498037 0.70893827 0.83235136 0.72608912]\n",
      " [0.44137169 0.27697609 0.23326762 0.69775156]\n",
      " [0.49158507 0.62445893 0.98799556 0.28557421]]\n"
     ]
    }
   ],
   "source": [
    "M = np.random.rand(3,4)\n",
    "print(M)"
   ]
  },
  {
   "cell_type": "markdown",
   "metadata": {},
   "source": [
    "Part 2\n",
    "\n",
    "Now we enter the adjancency matrix of the graph from class."
   ]
  },
  {
   "cell_type": "code",
   "execution_count": 18,
   "metadata": {},
   "outputs": [
    {
     "name": "stdout",
     "output_type": "stream",
     "text": [
      "[[0 1 0 0 1 0]\n",
      " [1 0 1 0 1 0]\n",
      " [0 1 0 1 0 0]\n",
      " [0 0 1 0 1 1]\n",
      " [1 1 0 1 0 0]\n",
      " [0 0 0 1 0 0]]\n"
     ]
    }
   ],
   "source": [
    "A = np.array([[0, 1, 0, 0, 1, 0], [1, 0, 1, 0, 1, 0], [0, 1, 0, 1, 0, 0], [0, 0, 1, 0, 1, 1], [1, 1, 0, 1, 0, 0], [0, 0, 0, 1, 0, 0]])\n",
    "print(A)"
   ]
  },
  {
   "cell_type": "markdown",
   "metadata": {},
   "source": [
    "We will learn in the coming weeks the mathematical definition of exponentiation of matrices that have an equal number of rows and columns.  If you have done programming before, this is likely a different operation than what you've seen. DO NOT USE ** for matrix exponentiation -- IT IS NOT CORRECT! In any case, we are going to see what this squaring does to adjacency matrices."
   ]
  },
  {
   "cell_type": "code",
   "execution_count": 19,
   "metadata": {},
   "outputs": [
    {
     "data": {
      "text/plain": [
       "array([[2, 1, 1, 1, 1, 0],\n",
       "       [1, 3, 0, 2, 1, 0],\n",
       "       [1, 0, 2, 0, 2, 1],\n",
       "       [1, 2, 0, 3, 0, 0],\n",
       "       [1, 1, 2, 0, 3, 1],\n",
       "       [0, 0, 1, 0, 1, 1]])"
      ]
     },
     "execution_count": 19,
     "metadata": {},
     "output_type": "execute_result"
    }
   ],
   "source": [
    "LA.matrix_power(A,2)"
   ]
  },
  {
   "cell_type": "markdown",
   "metadata": {},
   "source": [
    "With the TA and the other students in the lab, discuss what you think that means.  For example, the (1,1) entry of A^2 is 2, and the (3,4) entry of A^2 is 3.  What property of the first vertex with itself occurs twice and with the third and fourth occurs three times?  Now let's try cubing the adjancency matrix."
   ]
  },
  {
   "cell_type": "code",
   "execution_count": 20,
   "metadata": {},
   "outputs": [
    {
     "data": {
      "text/plain": [
       "array([[2, 4, 2, 2, 4, 1],\n",
       "       [4, 2, 5, 1, 6, 2],\n",
       "       [2, 5, 0, 5, 1, 0],\n",
       "       [2, 1, 5, 0, 6, 3],\n",
       "       [4, 6, 1, 6, 2, 0],\n",
       "       [1, 2, 0, 3, 0, 0]])"
      ]
     },
     "execution_count": 20,
     "metadata": {},
     "output_type": "execute_result"
    }
   ],
   "source": [
    "LA.matrix_power(A,3)"
   ]
  },
  {
   "cell_type": "markdown",
   "metadata": {},
   "source": [
    "Again, discuss the output."
   ]
  },
  {
   "cell_type": "markdown",
   "metadata": {},
   "source": [
    "Exercises (11 points total)\n",
    "1.  Generate a random row vector with 10 entries.  Call that vector p.\n"
   ]
  },
  {
   "cell_type": "code",
   "execution_count": 12,
   "metadata": {},
   "outputs": [
    {
     "name": "stdout",
     "output_type": "stream",
     "text": [
      "[0.87027902 0.99160739 0.7285031  0.96347735 0.43782869 0.96191567\n",
      " 0.29960972 0.43668044 0.59906212 0.59425165]\n"
     ]
    }
   ],
   "source": [
    "p = np.random.rand(10)\n",
    "print(p)"
   ]
  },
  {
   "cell_type": "markdown",
   "metadata": {},
   "source": [
    "2. Make an all-zeros vector with 10 entries.  Call that vector q.  (Hint: Using a command from last week will make this easier.)\n"
   ]
  },
  {
   "cell_type": "code",
   "execution_count": 14,
   "metadata": {},
   "outputs": [
    {
     "name": "stdout",
     "output_type": "stream",
     "text": [
      "[0. 0. 0. 0. 0. 0. 0. 0. 0. 0.]\n"
     ]
    }
   ],
   "source": [
    "q = np.zeros(10)\n",
    "print(q)"
   ]
  },
  {
   "cell_type": "markdown",
   "metadata": {},
   "source": [
    "3. Scalar multiply q by 1000 and add it to p."
   ]
  },
  {
   "cell_type": "code",
   "execution_count": 16,
   "metadata": {},
   "outputs": [
    {
     "name": "stdout",
     "output_type": "stream",
     "text": [
      "[0.87027902 0.99160739 0.7285031  0.96347735 0.43782869 0.96191567\n",
      " 0.29960972 0.43668044 0.59906212 0.59425165]\n"
     ]
    }
   ],
   "source": [
    "p += 1000 * q\n",
    "print(p)"
   ]
  },
  {
   "cell_type": "markdown",
   "metadata": {},
   "source": [
    "4. Interpret output of exercise 3.  What happened?\n",
    "\n",
    "Nothing happened because q is an all-zeros vector so multiplying it by a scalar won't change its entries.  Since the scalar multiplication didn't change anything, you're effectively doing p += 0, which won't change p.\n",
    "\n",
    "5. Enter the adjacency matrix for the blue graph on 3 vertices from the lab sheet. Call the matrix A1.\n"
   ]
  },
  {
   "cell_type": "code",
   "execution_count": 24,
   "metadata": {},
   "outputs": [
    {
     "name": "stdout",
     "output_type": "stream",
     "text": [
      "[[0 1 0]\n",
      " [1 0 1]\n",
      " [0 1 0]]\n"
     ]
    }
   ],
   "source": [
    "A1 = np.array([[0,1,0],[1,0,1],[0,1,0]])\n",
    "print(A1)"
   ]
  },
  {
   "cell_type": "markdown",
   "metadata": {},
   "source": [
    "6. Square the matrix A1."
   ]
  },
  {
   "cell_type": "code",
   "execution_count": 23,
   "metadata": {},
   "outputs": [
    {
     "data": {
      "text/plain": [
       "array([[1, 0, 1],\n",
       "       [0, 2, 0],\n",
       "       [1, 0, 1]])"
      ]
     },
     "execution_count": 23,
     "metadata": {},
     "output_type": "execute_result"
    }
   ],
   "source": [
    "LA.matrix_power(A1,2)"
   ]
  },
  {
   "cell_type": "markdown",
   "metadata": {},
   "source": [
    "7. Enter the adjacency matrix for the black graph on 4 vertices from the lab sheet. Call the matrix A2.\n"
   ]
  },
  {
   "cell_type": "code",
   "execution_count": 25,
   "metadata": {},
   "outputs": [
    {
     "name": "stdout",
     "output_type": "stream",
     "text": [
      "[[0 1 1 1]\n",
      " [1 0 1 1]\n",
      " [1 1 0 1]\n",
      " [1 1 1 0]]\n"
     ]
    }
   ],
   "source": [
    "A2 = np.array([[0,1,1,1],[1,0,1,1],[1,1,0,1],[1,1,1,0]])\n",
    "print(A2)"
   ]
  },
  {
   "cell_type": "markdown",
   "metadata": {},
   "source": [
    "8. Square the matrix A2."
   ]
  },
  {
   "cell_type": "code",
   "execution_count": 26,
   "metadata": {},
   "outputs": [
    {
     "data": {
      "text/plain": [
       "array([[3, 2, 2, 2],\n",
       "       [2, 3, 2, 2],\n",
       "       [2, 2, 3, 2],\n",
       "       [2, 2, 2, 3]])"
      ]
     },
     "execution_count": 26,
     "metadata": {},
     "output_type": "execute_result"
    }
   ],
   "source": [
    "LA.matrix_power(A2,2)"
   ]
  },
  {
   "cell_type": "markdown",
   "metadata": {},
   "source": [
    "9. Enter the adjacency matrix for the green graph on 5 vertices from the lab sheet. Call the matrix A3.\n"
   ]
  },
  {
   "cell_type": "code",
   "execution_count": 27,
   "metadata": {},
   "outputs": [
    {
     "name": "stdout",
     "output_type": "stream",
     "text": [
      "[[0 1 0 0 1]\n",
      " [1 0 1 0 0]\n",
      " [0 1 0 1 0]\n",
      " [0 0 1 0 1]\n",
      " [1 0 0 1 0]]\n"
     ]
    }
   ],
   "source": [
    "A3 = np.array([[0,1,0,0,1],[1,0,1,0,0],[0,1,0,1,0],[0,0,1,0,1],[1,0,0,1,0]])\n",
    "print(A3)"
   ]
  },
  {
   "cell_type": "markdown",
   "metadata": {},
   "source": [
    "10. Square the matrix A3."
   ]
  },
  {
   "cell_type": "code",
   "execution_count": 28,
   "metadata": {},
   "outputs": [
    {
     "data": {
      "text/plain": [
       "array([[2, 0, 1, 1, 0],\n",
       "       [0, 2, 0, 1, 1],\n",
       "       [1, 0, 2, 0, 1],\n",
       "       [1, 1, 0, 2, 0],\n",
       "       [0, 1, 1, 0, 2]])"
      ]
     },
     "execution_count": 28,
     "metadata": {},
     "output_type": "execute_result"
    }
   ],
   "source": [
    "LA.matrix_power(A3,2)"
   ]
  },
  {
   "cell_type": "markdown",
   "metadata": {},
   "source": [
    "11. Interpret the output of exercises 6, 8 and 9.  Does this match with the in-lab discussion?"
   ]
  },
  {
   "cell_type": "markdown",
   "metadata": {},
   "source": [
    "The outputs of exercises 6, 8 and 9 do match our in-lab discussion.  By squaring the adjacency matrix you can reveal how many edges are connected to a node.  For example, in A1, node 1 is represented by the entry (1,1) and has a value of 1.  This means that there is one edge connected to node 1, which is true if we look at the graph.  Likewise, for node 2, the entry (2,2) has a value of 2 because node 2 has two edges attached to it."
   ]
  }
 ],
 "metadata": {
  "kernelspec": {
   "display_name": "Python 3",
   "language": "python",
   "name": "python3"
  },
  "language_info": {
   "codemirror_mode": {
    "name": "ipython",
    "version": 3
   },
   "file_extension": ".py",
   "mimetype": "text/x-python",
   "name": "python",
   "nbconvert_exporter": "python",
   "pygments_lexer": "ipython3",
   "version": "3.9.6"
  }
 },
 "nbformat": 4,
 "nbformat_minor": 2
}
