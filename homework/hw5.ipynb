{
 "cells": [
  {
   "cell_type": "code",
   "execution_count": 2,
   "metadata": {},
   "outputs": [],
   "source": [
    "import numpy as np\n",
    "from numpy import linalg as LA"
   ]
  },
  {
   "cell_type": "code",
   "execution_count": 6,
   "metadata": {},
   "outputs": [],
   "source": [
    "A = np.array([[0, 0, 1, 0, 1, 0], [0, 0, 1, 0, 1, 0], [1, 1, 0, 1, 0, 0], [0, 0, 1, 0, 0, 0], [1, 1, 0, 0, 0, 1], [0, 0, 0, 0, 1, 0]])"
   ]
  },
  {
   "cell_type": "code",
   "execution_count": 7,
   "metadata": {},
   "outputs": [
    {
     "data": {
      "text/plain": [
       "array([[                  0,                   0, 1797074186000186965,\n",
       "                          0, 1797074186000186965,                   0],\n",
       "       [                  0,                   0, 1797074186000186965,\n",
       "                          0, 1797074186000186965,                   0],\n",
       "       [1797074186000186965, 1797074186000186965,                   0,\n",
       "         898537093000093483,                   0,  898537093000093482],\n",
       "       [                  0,                   0,  898537093000093483,\n",
       "                          0,  898537093000093482,                   0],\n",
       "       [1797074186000186965, 1797074186000186965,                   0,\n",
       "         898537093000093482,                   0,  898537093000093483],\n",
       "       [                  0,                   0,  898537093000093482,\n",
       "                          0,  898537093000093483,                   0]])"
      ]
     },
     "execution_count": 7,
     "metadata": {},
     "output_type": "execute_result"
    }
   ],
   "source": [
    "LA.matrix_power(A,59)"
   ]
  }
 ],
 "metadata": {
  "kernelspec": {
   "display_name": "venv",
   "language": "python",
   "name": "python3"
  },
  "language_info": {
   "codemirror_mode": {
    "name": "ipython",
    "version": 3
   },
   "file_extension": ".py",
   "mimetype": "text/x-python",
   "name": "python",
   "nbconvert_exporter": "python",
   "pygments_lexer": "ipython3",
   "version": "3.9.6"
  }
 },
 "nbformat": 4,
 "nbformat_minor": 2
}
