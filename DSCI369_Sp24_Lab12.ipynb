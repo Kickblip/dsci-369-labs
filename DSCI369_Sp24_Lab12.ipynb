{
 "cells": [
  {
   "cell_type": "markdown",
   "metadata": {},
   "source": [
    "CSU DSCI 369 Lab 12\n",
    "Instructor: Emily J. King\n",
    "Spring 2024\n",
    "\n",
    "Goals:  Learn how to generate solutions to systems of equations.  Final eigenvalue/eigenvector teaser."
   ]
  },
  {
   "cell_type": "code",
   "execution_count": 1,
   "metadata": {},
   "outputs": [],
   "source": [
    "import numpy as np\n",
    "from scipy.linalg import null_space as null\n",
    "from numpy.linalg import lstsq as lsqr\n",
    "from numpy.linalg import inv"
   ]
  },
  {
   "cell_type": "markdown",
   "metadata": {},
   "source": [
    "Traffic Problem\n",
    "\n",
    "Let's write the traffic problem as a matrix equation Ax=b."
   ]
  },
  {
   "cell_type": "code",
   "execution_count": 2,
   "metadata": {},
   "outputs": [],
   "source": [
    "A=np.array([[1, -1, 0, 0],[0, 1, -1, 0],[0, 0, 1, -1],[-1, 0, 0, 1]])\n",
    "b=np.array([160,-40,210,-330])"
   ]
  },
  {
   "cell_type": "markdown",
   "metadata": {},
   "source": [
    "The following command will return a solution to the least squares problem minimizing ||Ax-b||.  Note that any solution to Ax=b must be a solution to least squares since then the Euclidean distance between Ax and b would be 0.  I.e., the min ||Ax-b||^2 = 0 if and only if Ax=b has a solution."
   ]
  },
  {
   "cell_type": "code",
   "execution_count": 3,
   "metadata": {},
   "outputs": [
    {
     "data": {
      "text/plain": [
       "array([ 152.5,   -7.5,   32.5, -177.5])"
      ]
     },
     "execution_count": 3,
     "metadata": {},
     "output_type": "execute_result"
    }
   ],
   "source": [
    "x1=lsqr(A,b,rcond=None)[0]\n",
    "x1"
   ]
  },
  {
   "cell_type": "markdown",
   "metadata": {},
   "source": [
    "Let's test to see if this is indeed a solution to the original equation."
   ]
  },
  {
   "cell_type": "code",
   "execution_count": 4,
   "metadata": {},
   "outputs": [
    {
     "data": {
      "text/plain": [
       "True"
      ]
     },
     "execution_count": 4,
     "metadata": {},
     "output_type": "execute_result"
    }
   ],
   "source": [
    "np.allclose(A@x1,b)"
   ]
  },
  {
   "cell_type": "markdown",
   "metadata": {},
   "source": [
    "You should have gotten True since this system has a solution.  Most likely, however, the given solution isn't feasible for the orginal word problem (i.e., has negatve traffic flow)."
   ]
  },
  {
   "cell_type": "markdown",
   "metadata": {},
   "source": [
    "Let's generate more solutions.  First we compute a basis for the nullspace of the coefficient matrix."
   ]
  },
  {
   "cell_type": "code",
   "execution_count": 5,
   "metadata": {},
   "outputs": [
    {
     "data": {
      "text/plain": [
       "array([[0.5],\n",
       "       [0.5],\n",
       "       [0.5],\n",
       "       [0.5]])"
      ]
     },
     "execution_count": 5,
     "metadata": {},
     "output_type": "execute_result"
    }
   ],
   "source": [
    "y=null(A)\n",
    "y"
   ]
  },
  {
   "cell_type": "markdown",
   "metadata": {},
   "source": [
    "Recall that A*y = 0 for any y in the nullspace of A.  Thus, any vector in the span of the vector returned above can be added to x to get another solution to Ax=b.\n"
   ]
  },
  {
   "cell_type": "code",
   "execution_count": 6,
   "metadata": {},
   "outputs": [
    {
     "data": {
      "text/plain": [
       "True"
      ]
     },
     "execution_count": 6,
     "metadata": {},
     "output_type": "execute_result"
    }
   ],
   "source": [
    "x2=x1+np.random.normal()*y[:,0]\n",
    "np.allclose(A@x2,b)"
   ]
  },
  {
   "cell_type": "markdown",
   "metadata": {},
   "source": [
    "Let's try that again with another random element of the nullspace.\n"
   ]
  },
  {
   "cell_type": "code",
   "execution_count": 7,
   "metadata": {},
   "outputs": [
    {
     "data": {
      "text/plain": [
       "True"
      ]
     },
     "execution_count": 7,
     "metadata": {},
     "output_type": "execute_result"
    }
   ],
   "source": [
    "x3=x1+np.random.normal()*y[:,0]\n",
    "np.allclose(A@x3,b)"
   ]
  },
  {
   "cell_type": "markdown",
   "metadata": {},
   "source": [
    "Finally, notice that all of the entries of elements of the nullspace of A have the same value.  That is, the nullspace of A is precisely the one-dimensional subspace of R^4 consisting of vectors with all equal components.  Since this nullspace is particularly nice, we can actually easily find a feasible answer by adding in a bunch of positive numbers.  (This is typically not so easy to do just by inspection.)"
   ]
  },
  {
   "cell_type": "code",
   "execution_count": 8,
   "metadata": {},
   "outputs": [
    {
     "data": {
      "text/plain": [
       "True"
      ]
     },
     "execution_count": 8,
     "metadata": {},
     "output_type": "execute_result"
    }
   ],
   "source": [
    "x3=x1-np.min(x1)*2*y[:,0]\n",
    "np.allclose(A@x3,b)"
   ]
  },
  {
   "cell_type": "code",
   "execution_count": 9,
   "metadata": {},
   "outputs": [
    {
     "data": {
      "text/plain": [
       "array([330., 170., 210.,   0.])"
      ]
     },
     "execution_count": 9,
     "metadata": {},
     "output_type": "execute_result"
    }
   ],
   "source": [
    "x3"
   ]
  },
  {
   "cell_type": "markdown",
   "metadata": {},
   "source": [
    "Final eigenvector teaser\n",
    "\n",
    "Let B be a random 5x5 matrix and D a random 5x5 diagonal matrix."
   ]
  },
  {
   "cell_type": "code",
   "execution_count": 10,
   "metadata": {},
   "outputs": [],
   "source": [
    "B=np.random.rand(5,5)\n",
    "D=np.diag(np.random.rand(5))"
   ]
  },
  {
   "cell_type": "code",
   "execution_count": 11,
   "metadata": {},
   "outputs": [
    {
     "data": {
      "text/plain": [
       "array([[0.99910862, 0.16666853, 0.75870735, 0.36923839, 0.37082903],\n",
       "       [0.00337104, 0.34663262, 0.56974838, 0.0473044 , 0.27799928],\n",
       "       [0.63728874, 0.82204485, 0.71537969, 0.79744356, 0.28208737],\n",
       "       [0.68702955, 0.06500415, 0.57585053, 0.33499748, 0.55886971],\n",
       "       [0.94659429, 0.8333315 , 0.13858963, 0.39643815, 0.99197686]])"
      ]
     },
     "execution_count": 11,
     "metadata": {},
     "output_type": "execute_result"
    }
   ],
   "source": [
    "B"
   ]
  },
  {
   "cell_type": "code",
   "execution_count": 12,
   "metadata": {},
   "outputs": [
    {
     "data": {
      "text/plain": [
       "array([[0.90309576, 0.        , 0.        , 0.        , 0.        ],\n",
       "       [0.        , 0.51182438, 0.        , 0.        , 0.        ],\n",
       "       [0.        , 0.        , 0.1136022 , 0.        , 0.        ],\n",
       "       [0.        , 0.        , 0.        , 0.2751273 , 0.        ],\n",
       "       [0.        , 0.        , 0.        , 0.        , 0.87653506]])"
      ]
     },
     "execution_count": 12,
     "metadata": {},
     "output_type": "execute_result"
    }
   ],
   "source": [
    "D"
   ]
  },
  {
   "cell_type": "markdown",
   "metadata": {},
   "source": [
    "Let's multiply a series of vectors/matrices.  Discuss the output.\n"
   ]
  },
  {
   "cell_type": "code",
   "execution_count": 13,
   "metadata": {},
   "outputs": [
    {
     "data": {
      "text/plain": [
       "array([[ 1.00000000e+00,  6.22266697e-17,  1.11331519e-16,\n",
       "         4.50618376e-17,  1.12127505e-17],\n",
       "       [-1.82159731e-16,  1.00000000e+00,  1.04220644e-16,\n",
       "         2.50103006e-17, -4.87832640e-17],\n",
       "       [ 7.92057226e-17, -3.58212371e-17,  1.00000000e+00,\n",
       "        -3.05513417e-17,  1.08629900e-16],\n",
       "       [ 2.45457031e-16, -1.41511330e-16, -8.48033209e-17,\n",
       "         1.00000000e+00,  1.88018629e-16],\n",
       "       [ 1.44347050e-16,  4.42068890e-17,  2.40102350e-16,\n",
       "         9.09269172e-17,  1.00000000e+00]])"
      ]
     },
     "execution_count": 13,
     "metadata": {},
     "output_type": "execute_result"
    }
   ],
   "source": [
    "inv(B)@B # Identity matrix"
   ]
  },
  {
   "cell_type": "code",
   "execution_count": 14,
   "metadata": {},
   "outputs": [
    {
     "data": {
      "text/plain": [
       "array([ 1.00000000e+00, -1.82159731e-16,  7.92057226e-17,  2.45457031e-16,\n",
       "        1.44347050e-16])"
      ]
     },
     "execution_count": 14,
     "metadata": {},
     "output_type": "execute_result"
    }
   ],
   "source": [
    "inv(B)@B[:,0] # First column of identity matrix"
   ]
  },
  {
   "cell_type": "code",
   "execution_count": 15,
   "metadata": {},
   "outputs": [
    {
     "data": {
      "text/plain": [
       "array([ 9.03095756e-01, -8.86634007e-17,  2.42028093e-17,  1.04070346e-16,\n",
       "        3.01606902e-16])"
      ]
     },
     "execution_count": 15,
     "metadata": {},
     "output_type": "execute_result"
    }
   ],
   "source": [
    "D@inv(B)@B[:,0] # First column of D"
   ]
  },
  {
   "cell_type": "code",
   "execution_count": 24,
   "metadata": {},
   "outputs": [
    {
     "data": {
      "text/plain": [
       "array([0.90229076, 0.00304437, 0.57553275, 0.62045347, 0.85486529])"
      ]
     },
     "execution_count": 24,
     "metadata": {},
     "output_type": "execute_result"
    }
   ],
   "source": [
    "B@D@inv(B)@B[:,0]"
   ]
  },
  {
   "cell_type": "code",
   "execution_count": 30,
   "metadata": {},
   "outputs": [
    {
     "data": {
      "text/plain": [
       "array([0.51182438, 0.51182438, 0.51182438, 0.51182438, 0.51182438])"
      ]
     },
     "execution_count": 30,
     "metadata": {},
     "output_type": "execute_result"
    }
   ],
   "source": [
    "B@D@inv(B)@B[:,1]/B[:,1] # one of the elements off the diagonal of D"
   ]
  },
  {
   "cell_type": "markdown",
   "metadata": {},
   "source": [
    "Discuss the output."
   ]
  },
  {
   "cell_type": "markdown",
   "metadata": {},
   "source": [
    "Exercises\n",
    "\n",
    "Define M to be a random 3x6 matrix and c a random 3x1 vector. Test if there is a solution to Mx=c.  If there is a solution to Mx=c, give an additional solution to the problem."
   ]
  },
  {
   "cell_type": "code",
   "execution_count": 18,
   "metadata": {},
   "outputs": [
    {
     "data": {
      "text/plain": [
       "True"
      ]
     },
     "execution_count": 18,
     "metadata": {},
     "output_type": "execute_result"
    }
   ],
   "source": [
    "M=np.random.rand(3,6)\n",
    "c=np.random.rand(3,1)\n",
    "\n",
    "sol=lsqr(M,c,rcond=None)[0]\n",
    "np.allclose(M@sol,c)"
   ]
  },
  {
   "cell_type": "code",
   "execution_count": 20,
   "metadata": {},
   "outputs": [
    {
     "data": {
      "text/plain": [
       "True"
      ]
     },
     "execution_count": 20,
     "metadata": {},
     "output_type": "execute_result"
    }
   ],
   "source": [
    "nM=null(M)\n",
    "sol2=sol+np.random.normal()*nM[:,0].reshape(6,1)\n",
    "np.allclose(M@sol2,c)"
   ]
  },
  {
   "cell_type": "markdown",
   "metadata": {},
   "source": [
    "2. Test more cases above.  What do you think will happen when you multiply B*D*B^(-1) times the jth column of B for any invertible dxd matrix B and any dxd diagonal matrix D."
   ]
  },
  {
   "cell_type": "markdown",
   "metadata": {},
   "source": [
    "BDB^(-1) describes a series of transformations applied to the jth column of B. The first transformation is B^(-1)@Bj which appears to turn Bj into the jth column of the identity matrix. Then, multiplying by D turns the vector into the jth column of D because only one value aligns with the 1 in the identity matrix column and the rest of the entries are 0. Finally, multiplying by B scales the jth column of B by the nonzero entry in the jth column of D. The rest of the columns in B would be multiplied by 0."
   ]
  }
 ],
 "metadata": {
  "kernelspec": {
   "display_name": "Python 3.10.4 64-bit",
   "language": "python",
   "name": "python3"
  },
  "language_info": {
   "codemirror_mode": {
    "name": "ipython",
    "version": 3
   },
   "file_extension": ".py",
   "mimetype": "text/x-python",
   "name": "python",
   "nbconvert_exporter": "python",
   "pygments_lexer": "ipython3",
   "version": "3.9.6"
  },
  "vscode": {
   "interpreter": {
    "hash": "aee8b7b246df8f9039afb4144a1f6fd8d2ca17a180786b69acc140d282b71a49"
   }
  }
 },
 "nbformat": 4,
 "nbformat_minor": 2
}
