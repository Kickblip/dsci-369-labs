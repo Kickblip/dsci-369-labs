{
 "cells": [
  {
   "cell_type": "markdown",
   "metadata": {},
   "source": [
    "CSU DSCI 369 Lab 3\n",
    "Instructor: Emily J. King\n",
    "Spring 2024\n",
    "\n",
    "Note: Run this lab one cell at a time due to sound files being played.  Need to install matplotlib.\n",
    "\n",
    "Goals: Visualize how moving averages can smooth out local fluctuations. Hear how basic linear algebra operations affect song vectors.\n",
    "\n",
    "Additional files needed: DSCI369sound., \n",
    "in the same folder as this ipynb file or the path. (We have not discussed the path.  If you don't know what \"path\" means, just make sure the two files are in the same folder.)"
   ]
  },
  {
   "cell_type": "code",
   "execution_count": 1,
   "metadata": {},
   "outputs": [],
   "source": [
    "import numpy as np\n",
    "import matplotlib.pyplot as plt"
   ]
  },
  {
   "cell_type": "markdown",
   "metadata": {},
   "source": [
    "Section 1: Plotting small vectors"
   ]
  },
  {
   "cell_type": "code",
   "execution_count": 2,
   "metadata": {},
   "outputs": [],
   "source": [
    "a=np.array([1, 3, -1, -2, 4, 3])"
   ]
  },
  {
   "cell_type": "markdown",
   "metadata": {},
   "source": [
    "Plotting the above vector.\n",
    "\n",
    "To plot a vector in Matplotlib like the graph of a function, simply use plt.plot(VECTOR).  The '-o' tells Matplotlib to add markers at the vector values, and then connect consective entries with line segments, which is useful for visualization of small vectors.  "
   ]
  },
  {
   "cell_type": "code",
   "execution_count": null,
   "metadata": {},
   "outputs": [],
   "source": [
    "plt.plot(a,'-o')"
   ]
  },
  {
   "cell_type": "markdown",
   "metadata": {},
   "source": [
    "Another vector."
   ]
  },
  {
   "cell_type": "code",
   "execution_count": null,
   "metadata": {},
   "outputs": [],
   "source": [
    "b=np.array([-2, -3, 0, 5, 1, -2])\n",
    "plt.plot(b,'-o')"
   ]
  },
  {
   "cell_type": "markdown",
   "metadata": {},
   "source": [
    "Plotting the sum of the two vectors above with the vectors themselves.\n",
    "\n",
    "Note that once one starts doing more sophisticated things with Matplotlib, one normally needs to get the current axes via ax=plt.gca()."
   ]
  },
  {
   "cell_type": "code",
   "execution_count": null,
   "metadata": {},
   "outputs": [],
   "source": [
    "ax = plt.gca()\n",
    "plt.plot(a,'-o',label='a')\n",
    "plt.plot(b,'-o',label='b')\n",
    "plt.plot(a+b,'-o',label='a+b')\n",
    "ax.legend()"
   ]
  },
  {
   "cell_type": "markdown",
   "metadata": {},
   "source": [
    "Plotting 0.5a, a, and 2a together."
   ]
  },
  {
   "cell_type": "code",
   "execution_count": null,
   "metadata": {},
   "outputs": [],
   "source": [
    "ax = plt.gca()\n",
    "plt.plot(0.5*a,'-o',label='0.5a')\n",
    "plt.plot(a,'-o',label='a')\n",
    "plt.plot(2*a,'-o',label='2a')\n",
    "ax.legend()"
   ]
  },
  {
   "cell_type": "markdown",
   "metadata": {},
   "source": [
    "Section 2: Moving Averages\n",
    "\n",
    "Generate sine wave vector with 100 entries and visualize it.  \n"
   ]
  },
  {
   "cell_type": "code",
   "execution_count": null,
   "metadata": {},
   "outputs": [],
   "source": [
    "s=np.sin(2*np.pi*np.arange(100)/50)\n",
    "\n",
    "plt.plot(s)\n",
    "plt.ylim([-1.2,1.2])"
   ]
  },
  {
   "cell_type": "markdown",
   "metadata": {},
   "source": [
    "Generate noise vector with 100 entries and visualize it. (For those who have had stats, np.random.normal(0,1,k) generates an array with k elements where each entry is a draw from the standard normal/Gaussian distribution.  If you haven't had stats, no worries, just think of randn as making noise.)"
   ]
  },
  {
   "cell_type": "code",
   "execution_count": null,
   "metadata": {},
   "outputs": [],
   "source": [
    "n=0.1*np.random.normal(0,1,100)\n",
    "\n",
    "plt.plot(n)\n",
    "plt.ylim([-1.2,1.2])"
   ]
  },
  {
   "cell_type": "markdown",
   "metadata": {},
   "source": [
    "Make a noisy sine wave vector by adding the previous two vectors.  Then visualize the new vector."
   ]
  },
  {
   "cell_type": "code",
   "execution_count": null,
   "metadata": {},
   "outputs": [],
   "source": [
    "ns=s+n\n",
    "\n",
    "plt.plot(ns)\n",
    "plt.ylim([-1.2,1.2])"
   ]
  },
  {
   "cell_type": "markdown",
   "metadata": {},
   "source": [
    "Visualize the moving average with a window of length 3. \n",
    "\n",
    "To compute the moving average of window length K, use np.convolve(VECTOR,np.ones(K)/K,mode='valid').  mode='valid' tells Python to not come up for values at the endpoints.  For example, the first entry of a vector doesn't have any entries to the left of it, so you can't take an average of entries centered at the first entry. "
   ]
  },
  {
   "cell_type": "code",
   "execution_count": null,
   "metadata": {},
   "outputs": [],
   "source": [
    "plt.plot(np.convolve(ns,np.ones(3)/3,mode='valid'))\n",
    "plt.ylim([-1.2,1.2])"
   ]
  },
  {
   "cell_type": "markdown",
   "metadata": {},
   "source": [
    "Discuss what you see.  \n",
    "\n",
    "The new visualization is smoother than the noisy sine wave but is retaining the same basic shape.\n",
    "\n",
    "Now, visualize the moving average with a window of length 9."
   ]
  },
  {
   "cell_type": "code",
   "execution_count": null,
   "metadata": {},
   "outputs": [],
   "source": [
    "plt.plot(np.convolve(ns,np.ones(9)/9,mode='valid'))\n",
    "plt.ylim([-1.2,1.2])"
   ]
  },
  {
   "cell_type": "markdown",
   "metadata": {},
   "source": [
    "Discuss the difference between the last two plots.\n",
    "\n",
    "Using a larger window length of 9 makes the noisy sine graph even more smoother and it almost looks like the original sine graph.  As the window length increases, the start and end of the graph appears to shift up and down respectively.\n",
    "\n",
    "Now, visualize the moving average with a window of length 50."
   ]
  },
  {
   "cell_type": "code",
   "execution_count": null,
   "metadata": {},
   "outputs": [],
   "source": [
    "plt.plot(np.convolve(ns,np.ones(50)/50,mode='valid'))\n",
    "plt.ylim([-1.2,1.2])"
   ]
  },
  {
   "cell_type": "markdown",
   "metadata": {},
   "source": [
    "Discuss what you see and why you think it may have happened.\n",
    "\n",
    "In the original sine graph, there are two wavelengths worth of data.  A window lengh of 50 is exactly one wavelength since the full length of the vector is 100 entries.  The average of one sine wavelength would be zero, so using 50 as the window length makes the entire visualization zero.\n",
    "\n",
    "\n",
    "Section 3: Plotting and playing song vectors"
   ]
  },
  {
   "cell_type": "code",
   "execution_count": 15,
   "metadata": {},
   "outputs": [],
   "source": [
    "from IPython.display import Audio"
   ]
  },
  {
   "cell_type": "code",
   "execution_count": 16,
   "metadata": {},
   "outputs": [],
   "source": [
    "npzfile=np.load('DSCI369sound.npz')\n",
    "locals().update(npzfile)"
   ]
  },
  {
   "cell_type": "markdown",
   "metadata": {},
   "source": [
    "\n",
    "Song credits:\n",
    "\n",
    "x = clip from King Gizzard and the Lizard Wizard - Flightless Records - 2017\n",
    "y = clip from Björk - Hunter - OLI Records - 1998\n",
    "z = clip from Black Star - Definition - Rawkus Records - 1999\n",
    "u = clip from Johnny Cash - So Doggone Lonesome - Sun Records - 1955\n",
    "v = clip from Vicente Fernández - Guadalajara (remasterizado) - 2006\n",
    "\n",
    "In Python, anything to the right of a hash sign is ignored.  This is called a comment.  If you want to play around with your own sound files, remove the hash signs on the left hand side of each line in the following block of code and modify the file names. \n",
    "It's possible you might need to do more on the command line than the two %pip lines below to get these packages working in Jupyter, as I personally had to do more.  However, neither Tatum nor I are tech support.  If you can't figure it out, then just use the songs provided.\n",
    "Replace y and ysr with z and zsr, respectively, in the code below to import in two different files and compare them as in code that follows.  Double check that ysr and zsr are both equal to 44100.  If not, you'll need to change the rate in the audio calls."
   ]
  },
  {
   "cell_type": "code",
   "execution_count": null,
   "metadata": {},
   "outputs": [],
   "source": [
    "#%pip install audio2numpy # if needed.   \n",
    "#%pip install ffmpeg # if needed\n",
    "\n",
    "#import audio2numpy as a2n\n",
    "#y,ysr=a2n.audio_from_file(\"YOUR MP3, WAV, or AIFF\")\n",
    "#L=1000001\n",
    "#y=y[:L,]"
   ]
  },
  {
   "cell_type": "markdown",
   "metadata": {},
   "source": [
    "Visualize song y."
   ]
  },
  {
   "cell_type": "code",
   "execution_count": null,
   "metadata": {},
   "outputs": [],
   "source": [
    "plt.plot(y[:,1])"
   ]
  },
  {
   "cell_type": "markdown",
   "metadata": {},
   "source": [
    "Play song y.\n",
    "\n",
    "(Jupyter's audio function doesn't seem to support two-channel audio or entering the rate as a variable.  Hence, if you import your own audio, make sure to only play one channel and double check that the rate (xsr) is still 441000.)"
   ]
  },
  {
   "cell_type": "code",
   "execution_count": null,
   "metadata": {},
   "outputs": [],
   "source": [
    "Audio(y[:,1], rate=44100) "
   ]
  },
  {
   "cell_type": "markdown",
   "metadata": {},
   "source": [
    "Visualize song z."
   ]
  },
  {
   "cell_type": "code",
   "execution_count": null,
   "metadata": {},
   "outputs": [],
   "source": [
    "plt.plot(z[:,1])"
   ]
  },
  {
   "cell_type": "markdown",
   "metadata": {},
   "source": [
    "Listen to song z."
   ]
  },
  {
   "cell_type": "code",
   "execution_count": null,
   "metadata": {},
   "outputs": [],
   "source": [
    "Audio(z[:,1], rate=44100) "
   ]
  },
  {
   "cell_type": "markdown",
   "metadata": {},
   "source": [
    "Visualize 0.25 times z."
   ]
  },
  {
   "cell_type": "code",
   "execution_count": null,
   "metadata": {},
   "outputs": [],
   "source": [
    "plt.plot(0.25*z[:,1])\n",
    "plt.ylim([np.min(z),np.max(z)])"
   ]
  },
  {
   "cell_type": "markdown",
   "metadata": {},
   "source": [
    "Listen to 0.25 times z.\n",
    "\n",
    "(Jupyter audio automatically rescales all volume and has no option to not do that.  Hence, the weird hack in the code below with quietz.  Unfortunately, this hack won't allow you to hear the effect of multiplying songs by numbers greater than 1.)"
   ]
  },
  {
   "cell_type": "code",
   "execution_count": 1,
   "metadata": {},
   "outputs": [
    {
     "ename": "NameError",
     "evalue": "name 'z' is not defined",
     "output_type": "error",
     "traceback": [
      "\u001b[0;31m---------------------------------------------------------------------------\u001b[0m",
      "\u001b[0;31mNameError\u001b[0m                                 Traceback (most recent call last)",
      "Cell \u001b[0;32mIn[1], line 1\u001b[0m\n\u001b[0;32m----> 1\u001b[0m quietz\u001b[38;5;241m=\u001b[39m\u001b[38;5;241m0.25\u001b[39m\u001b[38;5;241m*\u001b[39m\u001b[43mz\u001b[49m[:,\u001b[38;5;241m1\u001b[39m]\n\u001b[1;32m      2\u001b[0m quietz[\u001b[38;5;241m0\u001b[39m]\u001b[38;5;241m=\u001b[39m\u001b[38;5;241m1\u001b[39m\n\u001b[1;32m      3\u001b[0m Audio(quietz, rate\u001b[38;5;241m=\u001b[39m\u001b[38;5;241m44100\u001b[39m) \n",
      "\u001b[0;31mNameError\u001b[0m: name 'z' is not defined"
     ]
    }
   ],
   "source": [
    "quietz=0.25*z[:,1]\n",
    "quietz[0]=1\n",
    "Audio(quietz, rate=44100) "
   ]
  },
  {
   "cell_type": "markdown",
   "metadata": {},
   "source": [
    "Plot 0.25*z + y."
   ]
  },
  {
   "cell_type": "code",
   "execution_count": null,
   "metadata": {},
   "outputs": [],
   "source": [
    "plt.plot(0.25*z[:,1]+y[:,1])"
   ]
  },
  {
   "cell_type": "markdown",
   "metadata": {},
   "source": [
    "Listen to 0.25*z + y."
   ]
  },
  {
   "cell_type": "code",
   "execution_count": null,
   "metadata": {},
   "outputs": [],
   "source": [
    "Audio(0.25*z[:,1]+y[:,1], rate=44100) "
   ]
  },
  {
   "cell_type": "markdown",
   "metadata": {},
   "source": [
    "Lab 3 Exercises\n",
    "\n",
    "1. Choose a pair of songs, two from the files loaded from DSCI369sound.npz, two of your own loaded using the commented out code, or a mixture. Call the song vectors song1 and song2. "
   ]
  },
  {
   "cell_type": "code",
   "execution_count": 26,
   "metadata": {},
   "outputs": [],
   "source": [
    "song1 = y\n",
    "song2 = z"
   ]
  },
  {
   "cell_type": "markdown",
   "metadata": {},
   "source": [
    "2. Compute and listen to three different linear combinations of the songs."
   ]
  },
  {
   "cell_type": "code",
   "execution_count": null,
   "metadata": {},
   "outputs": [],
   "source": [
    "# First Combination\n",
    "Audio(0.10*song1[:,1] + 0.05*song2[:,1], rate=44100) "
   ]
  },
  {
   "cell_type": "code",
   "execution_count": null,
   "metadata": {},
   "outputs": [],
   "source": [
    "# Second Combination\n",
    "Audio(-1*song2[:,1] + song2[:,1], rate=44100) "
   ]
  },
  {
   "cell_type": "code",
   "execution_count": null,
   "metadata": {},
   "outputs": [],
   "source": [
    "# Third Combination\n",
    "Audio(0.23*song1[:,1]+0.9*song2[:,1], rate=44100) "
   ]
  },
  {
   "cell_type": "markdown",
   "metadata": {},
   "source": [
    "3. Plot the moving averages of song1 with window lengths of 101 and 1001 using the code below. The ends are trimmed off so that all of the vectors are the same length."
   ]
  },
  {
   "cell_type": "code",
   "execution_count": null,
   "metadata": {},
   "outputs": [],
   "source": [
    "song1_ma101=np.convolve(song1[:,1],np.ones(101)/101,mode='full')\n",
    "song1_ma1001=np.convolve(song1[:,1],np.ones(1001)/1001,mode='full')\n",
    "\n",
    "ax = plt.gca()\n",
    "plt.plot(song1[500:-500,1],label='song1')\n",
    "plt.plot(song1_ma101[500:-500],label='mov ave 101')\n",
    "plt.plot(song1_ma1001[500:-500],label='mov ave 1001')\n",
    "ax.legend()"
   ]
  },
  {
   "cell_type": "markdown",
   "metadata": {},
   "source": [
    "Now listen to the moving averages.  If you don't hear anything the first time through, turn up your volume and play again.\n",
    "\n",
    "Note if you use your own songs and the xsr shown during import is not equal to 44,100, then you will need to update the rate in the following commands.\n",
    "\n",
    "First the original song."
   ]
  },
  {
   "cell_type": "code",
   "execution_count": null,
   "metadata": {},
   "outputs": [],
   "source": [
    "Audio(song1[:,1], rate=44100) "
   ]
  },
  {
   "cell_type": "markdown",
   "metadata": {},
   "source": [
    "Next the moving average with window of length 101."
   ]
  },
  {
   "cell_type": "code",
   "execution_count": null,
   "metadata": {},
   "outputs": [],
   "source": [
    "song1_ma101[500]=1 # hack to prevent Jupyter from rescaling volume\n",
    "\n",
    "Audio(song1_ma101[500:-500], rate=44100) "
   ]
  },
  {
   "cell_type": "markdown",
   "metadata": {},
   "source": [
    "Finally, the moving average with window of length 1001."
   ]
  },
  {
   "cell_type": "code",
   "execution_count": null,
   "metadata": {},
   "outputs": [],
   "source": [
    "song1_ma1001[500]=1 # hack to prevent Jupyter from rescaling volume\n",
    "\n",
    "Audio(song1_ma1001[500:-500], rate=44100) "
   ]
  },
  {
   "cell_type": "markdown",
   "metadata": {},
   "source": [
    "Between the plots and the sounds, what are the moving averages doing to the song file?\n",
    "\n",
    "The moving averages seem to be emphasizing the repetitive parts of the song (mainly the repeating bass line) while making the less repetitive parts quiet.  With a window length of 1001, the song is barely audible except for that repeating bass line."
   ]
  }
 ],
 "metadata": {
  "kernelspec": {
   "display_name": "Python 3",
   "language": "python",
   "name": "python3"
  },
  "language_info": {
   "codemirror_mode": {
    "name": "ipython",
    "version": 3
   },
   "file_extension": ".py",
   "mimetype": "text/x-python",
   "name": "python",
   "nbconvert_exporter": "python",
   "pygments_lexer": "ipython3",
   "version": "3.9.6"
  }
 },
 "nbformat": 4,
 "nbformat_minor": 2
}
