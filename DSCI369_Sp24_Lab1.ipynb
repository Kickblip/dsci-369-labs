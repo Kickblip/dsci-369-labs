{
 "cells": [
  {
   "cell_type": "markdown",
   "metadata": {},
   "source": [
    "CSU DSCI 369 Lab 1\n",
    "Instructor: Emily J. King\n",
    "Spring 2024\n",
    "\n",
    "Goal: Get comfortable using numpy and loading/manipulating vectors and matrices, including how to create special arrays, like increasing sequences of integers and all-ones/all-zeros."
   ]
  },
  {
   "cell_type": "code",
   "execution_count": 2,
   "metadata": {},
   "outputs": [],
   "source": [
    "import numpy as np # used for most math functions\n",
    "from numpy import linalg as LA # some special linear algebra functions"
   ]
  },
  {
   "cell_type": "markdown",
   "metadata": {},
   "source": [
    "Input a one-dimensional array (vector) and compare two different methods of displaying the vector."
   ]
  },
  {
   "cell_type": "code",
   "execution_count": 3,
   "metadata": {},
   "outputs": [
    {
     "name": "stdout",
     "output_type": "stream",
     "text": [
      "[ 0.1  -0.05  0.2  -0.77]\n",
      "The vector x is [ 0.1  -0.05  0.2  -0.77] .\n"
     ]
    }
   ],
   "source": [
    "x = np.array([0.1,-0.05, 0.2, -0.77])\n",
    "print(x)\n",
    "print(\"The vector x is\",x,\".\")"
   ]
  },
  {
   "cell_type": "markdown",
   "metadata": {},
   "source": [
    "Input another array; this time all ones."
   ]
  },
  {
   "cell_type": "code",
   "execution_count": 4,
   "metadata": {},
   "outputs": [
    {
     "name": "stdout",
     "output_type": "stream",
     "text": [
      "The vector y is [1. 1. 1.] .\n"
     ]
    }
   ],
   "source": [
    "y = np.ones(3)\n",
    "print(\"The vector y is\",y,\".\")"
   ]
  },
  {
   "cell_type": "markdown",
   "metadata": {},
   "source": [
    "Input a third array, this time the integers from 1 to 10."
   ]
  },
  {
   "cell_type": "code",
   "execution_count": 5,
   "metadata": {},
   "outputs": [
    {
     "name": "stdout",
     "output_type": "stream",
     "text": [
      "The vector z is [ 1  2  3  4  5  6  7  8  9 10] .\n"
     ]
    }
   ],
   "source": [
    "z=np.arange(1,11)\n",
    "print(\"The vector z is\",z,\".\")"
   ]
  },
  {
   "cell_type": "markdown",
   "metadata": {},
   "source": [
    "Determine the dimensions of the vectors and compare to the number of elements."
   ]
  },
  {
   "cell_type": "code",
   "execution_count": 6,
   "metadata": {},
   "outputs": [
    {
     "name": "stdout",
     "output_type": "stream",
     "text": [
      "The dimension(s) (in Python) of x is (4,) .\n",
      "The number of elements of x is 4 .\n",
      "The dimension(s) (in Python) of y is (3,) .\n",
      "The number of elements of y is 3 .\n",
      "The dimension(s) (in Python) of z is (10,) .\n",
      "The number of elements of z is 10 .\n"
     ]
    }
   ],
   "source": [
    "print(\"The dimension(s) (in Python) of x is\",x.shape,\".\")\n",
    "print(\"The number of elements of x is\",len(x),\".\")\n",
    "\n",
    "print(\"The dimension(s) (in Python) of y is\",y.shape,\".\")\n",
    "print(\"The number of elements of y is\",len(y),\".\")\n",
    "\n",
    "print(\"The dimension(s) (in Python) of z is\",z.shape,\".\")\n",
    "print(\"The number of elements of z is\",len(z),\".\")\n",
    "\n"
   ]
  },
  {
   "cell_type": "markdown",
   "metadata": {},
   "source": [
    "We will see later in the course that it is at times advantageous mathematically to view vectors with d entries as dx1 or 1xd matrices.  Although it is possible to force Python to create a dx1 or 1xd two-dimensional array that \"looks\" like a vector, the code is clunky and makes other operations not work correctly.\n",
    "\n",
    "Now let's do some basic vector manipulations.  First, we display some parts of the given vectors, remembering that counting starts with 0 in Python."
   ]
  },
  {
   "cell_type": "code",
   "execution_count": null,
   "metadata": {},
   "outputs": [],
   "source": [
    "print(\"The first entry of z is\",z[0],\".\")\n",
    "print(\"The first two entries of z are\",z[0:2],\".\")\n",
    "print(\"The first two entries of z are\",z[:2],\".\")\n",
    "print(\"The middle four entries of z are\",z[3:7],\".\")\n",
    "print(\"The last entry of z is\",z[-1],\".\")\n",
    "print(\"The last two entries of z are\",z[-2:],\".\")\n"
   ]
  },
  {
   "cell_type": "markdown",
   "metadata": {},
   "source": [
    "Now let's change entries of the vectors."
   ]
  },
  {
   "cell_type": "code",
   "execution_count": null,
   "metadata": {},
   "outputs": [],
   "source": [
    "y[0] = 5 \n",
    "print(\"Changing the first entry of y to be 5, we get\",y,\".\")\n",
    "\n",
    "y[1] = 2*x[0]\n",
    "print(\"Next, changing the second entry of y to be twice the first entry of x, we get\",y,\".\")"
   ]
  },
  {
   "cell_type": "markdown",
   "metadata": {},
   "source": [
    "Now let's change multiple entries at once."
   ]
  },
  {
   "cell_type": "code",
   "execution_count": null,
   "metadata": {},
   "outputs": [],
   "source": [
    "z[3:7]=5*np.ones(4)\n",
    "print(\"Chaning the middle four entries of z to all be equal to 5, we get\",z,\".\")\n",
    "\n",
    "z[3:7]=x\n",
    "print(\"Chaning the middle four entries of z to be equal to the entries x, we get\",z,\".\")"
   ]
  },
  {
   "cell_type": "markdown",
   "metadata": {},
   "source": [
    "Oh no!  Somehow when we tried to change the middle four entries of z to [ 0.1  -0.05  0.2 -0.77], they all changed to 0. What happened? The problem was that z and x are different data types.  For some operations, Python implicitly upcasts (e.g., view the integers as floating point numbers), but here it has implicitly downcast (e.g., rounded the floating point numbers to integers)."
   ]
  },
  {
   "cell_type": "code",
   "execution_count": null,
   "metadata": {},
   "outputs": [],
   "source": [
    "print(\"The data type of x is\",x.dtype,\".\")\n",
    "print(\"The data type of z is\",z.dtype,\".\")"
   ]
  },
  {
   "cell_type": "markdown",
   "metadata": {},
   "source": [
    "We can fix this issue by recasting z to be floating point."
   ]
  },
  {
   "cell_type": "code",
   "execution_count": null,
   "metadata": {},
   "outputs": [],
   "source": [
    "z=z.astype(float)\n",
    "z[3:7]=x\n",
    "print(\"Changing the middle four entries of z to be equal to the entries x, we get\",z,\".\")\n",
    "\n",
    "z[7:]=-3*y\n",
    "print(\"Next, changing the last three entries of z to be -3 times the entries of y, we have\",z,\".\")\n"
   ]
  },
  {
   "cell_type": "markdown",
   "metadata": {},
   "source": [
    "Now, let's do some similar operations for 2d arrays / matrices."
   ]
  },
  {
   "cell_type": "code",
   "execution_count": null,
   "metadata": {},
   "outputs": [],
   "source": [
    "A = np.array([[1, 2], [3, 4]])\n",
    "print(\"The matrix A is\\n\",A,\".\")\n",
    "\n",
    "print(\"The (1,2) entry of A is\",A[0,1],\".\")\n",
    "\n",
    "print(\"The (1,2) entry of A is\",A[0][1],\".\")\n",
    "\n",
    "print(\"The first row of A is\",A[0],\".\")\n",
    "\n",
    "print(\"The second column of A is\",A[:,1],\".\")"
   ]
  },
  {
   "cell_type": "markdown",
   "metadata": {},
   "source": [
    "Notice how the second column is written by Python as a row.\n",
    "\n",
    "Now let's change some entries of matrices."
   ]
  },
  {
   "cell_type": "code",
   "execution_count": null,
   "metadata": {},
   "outputs": [],
   "source": [
    "B=np.zeros([6,6])\n",
    "print(\"The matrix B is\\n\",B,\".\")\n",
    "\n",
    "C=np.ones([3,3])\n",
    "print(\"The matrix C is\\n\",C,\".\")\n",
    "\n",
    "B[:2,:2]=A\n",
    "print(\"Replacing the upper left 2x2 entries of B with A results in\\n\",B,\".\")\n",
    "\n",
    "B[-3:,-3:]=-2.5*C\n",
    "print(\"Next, replacing the lower right 3x3 entries of B with -2.5 times each entry in C results in\\n\",B,\".\")"
   ]
  },
  {
   "cell_type": "markdown",
   "metadata": {},
   "source": [
    "Exercises (10 points total)\n",
    "1.  a. [1 pt] Create vector (here in pseudocode) u=[1,2,3,4] using numpy.  \n",
    "\n",
    "    b. [1 pt] Compute x+u.\n",
    "\n",
    "    c. [2 pt] What do you think x+u is returning? Interpret the numbers.\n",
    "\n",
    "    d. [1 pt] Compute x+y.\n",
    "\n",
    "    e. [2 pt] What happened, and why do you think it happened?\n",
    "\n",
    "2.  a. [1 pt] Create a 100x50 matrix X with all entries equal to zero.\n",
    "\n",
    "    b. [1 pt] Change the (1,1) entry of X to be equal to 5.\n",
    "    \n",
    "    c. [1 pt] Change the upper right 20x20 corner of X to have all entries equal to -3.\n",
    "    "
   ]
  },
  {
   "cell_type": "markdown",
   "metadata": {},
   "source": []
  }
 ],
 "metadata": {
  "kernelspec": {
   "display_name": "Python 3",
   "language": "python",
   "name": "python3"
  },
  "language_info": {
   "codemirror_mode": {
    "name": "ipython",
    "version": 3
   },
   "file_extension": ".py",
   "mimetype": "text/x-python",
   "name": "python",
   "nbconvert_exporter": "python",
   "pygments_lexer": "ipython3",
   "version": "3.9.6"
  }
 },
 "nbformat": 4,
 "nbformat_minor": 2
}
